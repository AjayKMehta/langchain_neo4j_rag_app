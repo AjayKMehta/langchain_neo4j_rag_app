{
 "cells": [
  {
   "cell_type": "code",
   "execution_count": 1,
   "metadata": {},
   "outputs": [],
   "source": [
    "VISIT_DESCRIPTIONS_PATH = \"../src/data_descriptions/visit_descriptions.csv\"\n",
    "REVIEWS_PATH = \"../src/data_descriptions/reviews.csv\""
   ]
  },
  {
   "cell_type": "code",
   "execution_count": 2,
   "metadata": {},
   "outputs": [
    {
     "data": {
      "text/plain": [
       "True"
      ]
     },
     "execution_count": 2,
     "metadata": {},
     "output_type": "execute_result"
    }
   ],
   "source": [
    "import dotenv\n",
    "import pandas as pd\n",
    "from langchain.chat_models import ChatOpenAI\n",
    "from langchain.schema.messages import HumanMessage, SystemMessage\n",
    "dotenv.load_dotenv()"
   ]
  },
  {
   "cell_type": "code",
   "execution_count": 3,
   "metadata": {},
   "outputs": [
    {
     "name": "stdout",
     "output_type": "stream",
     "text": [
      "patient id: 1340 \n",
      " date of admission: 2019-01-02 \n",
      " billing amount: 15412.399249958517 \n",
      " room number: 219 \n",
      " admission type: Elective \n",
      " discharge date: 2019-01-11 \n",
      " test results: Inconclusive \n",
      " visit id: 1340 \n",
      " physician id: 183 \n",
      " payer id: 0 \n",
      " hospital id: 7 \n",
      " chief complaint: nan \n",
      " treatment description: nan \n",
      " primary diagnosis: nan \n",
      " visit status: DISCHARGED \n",
      " hospital name: Brown Inc \n",
      " payer name: Medicare \n",
      " patient name: Matthew Stevens \n",
      " patient sex: Male \n",
      " patient dob: 1939-07-09 00:00:00 \n",
      " patient blood type: A+ \n",
      " physician name: Tamara Potter \n",
      " physician dob: 1960-06-15 00:00:00 \n",
      " physician grad year: 1990-06-15 00:00:00 \n",
      " medical school: Washington University in St. Louis School of Medicine \n",
      " salary: 282300.6422875667 \n",
      "\n"
     ]
    }
   ],
   "source": [
    "data_descriptions = pd.read_csv(VISIT_DESCRIPTIONS_PATH)\n",
    "print(data_descriptions.sample()[\"visit_description\"].values[0])"
   ]
  },
  {
   "cell_type": "markdown",
   "metadata": {},
   "source": [
    "#### LLMs and Chat Models"
   ]
  },
  {
   "cell_type": "code",
   "execution_count": 6,
   "metadata": {},
   "outputs": [],
   "source": [
    "chat_model = ChatOpenAI(model=\"gpt-3.5-turbo\", temperature=0)"
   ]
  },
  {
   "cell_type": "code",
   "execution_count": 33,
   "metadata": {},
   "outputs": [
    {
     "data": {
      "text/plain": [
       "AIMessage(content=\"Pain treatment can vary based on the location of the body for several reasons. The type and intensity of pain can differ depending on the body part affected, and the treatment approach may need to be tailored accordingly. Here are some examples of how pain treatment can vary based on body location:\\n\\n1. Musculoskeletal Pain: Pain in the muscles, bones, joints, or connective tissues often requires a combination of treatments. This may include physical therapy, stretching exercises, heat or cold therapy, massage, and nonsteroidal anti-inflammatory drugs (NSAIDs) for pain relief. In some cases, orthopedic interventions like joint injections or surgeries may be necessary.\\n\\n2. Head and Neck Pain: Headaches, migraines, and neck pain can be managed with various approaches. Over-the-counter pain relievers, muscle relaxants, and lifestyle modifications (such as stress reduction techniques) are commonly used. For more severe cases, prescription medications, nerve blocks, physical therapy, or referral to a specialist like a neurologist may be necessary.\\n\\n3. Abdominal Pain: Treatment for abdominal pain depends on the underlying cause. It may involve medications to manage symptoms, such as antacids for acid reflux or antispasmodics for irritable bowel syndrome. In cases of severe abdominal pain, diagnostic tests like imaging or endoscopy may be required to identify the cause and guide treatment.\\n\\n4. Back Pain: Back pain can be acute or chronic, and treatment options vary accordingly. Conservative measures like rest, physical therapy, exercise, and pain medications (such as NSAIDs or muscle relaxants) are often recommended. In some cases, epidural steroid injections, chiropractic care, or surgical interventions may be considered.\\n\\n5. Extremity Pain: Pain in the arms or legs can be caused by various factors, including nerve compression, injuries, or conditions like arthritis. Treatment may involve a combination of pain medications, physical therapy, occupational therapy, and in some cases, surgical interventions or nerve blocks.\\n\\nIt's important to note that pain treatment is highly individualized, and healthcare providers consider factors such as the patient's medical history, severity of pain, underlying conditions, and response to previous treatments when determining the most appropriate approach. Consulting with a healthcare professional is crucial to receive personalized advice and treatment for pain based on the specific body location.\")"
      ]
     },
     "execution_count": 33,
     "metadata": {},
     "output_type": "execute_result"
    }
   ],
   "source": [
    "messages = [\n",
    "    SystemMessage(content=\"You're an assistant knowledgeable about the hospitals, patients, providers, physicians, and visits in a hospital system\"),\n",
    "    HumanMessage(content=\"How does pain treatment vary based on body location?\"),\n",
    "]\n",
    "\n",
    "chat_model.invoke(messages)"
   ]
  },
  {
   "cell_type": "code",
   "execution_count": 34,
   "metadata": {},
   "outputs": [
    {
     "data": {
      "text/plain": [
       "\"Pain treatment can vary based on body location due to several factors, including the underlying cause of pain, the type of pain experienced, and the specific treatment options available for that particular body part. Here are some examples of how pain treatment may vary based on body location:\\n\\n1. Back pain: Treatment for back pain can range from conservative measures such as physical therapy, stretching exercises, and pain medications, to more invasive options like epidural steroid injections or surgery, depending on the severity and cause of the pain.\\n\\n2. Joint pain: Joint pain, such as in the knees, hips, or shoulders, may be managed with a combination of nonsteroidal anti-inflammatory drugs (NSAIDs), physical therapy, joint injections (corticosteroids or hyaluronic acid), or in severe cases, joint replacement surgery.\\n\\n3. Headaches: Treatment for headaches can vary depending on the type and location of the headache. For example, tension headaches may be managed with over-the-counter pain relievers, stress reduction techniques, and lifestyle modifications, while migraines may require prescription medications, lifestyle changes, and avoidance of triggers.\\n\\n4. Abdominal pain: The treatment for abdominal pain depends on the underlying cause, which can range from gastrointestinal issues like acid reflux or irritable bowel syndrome to more serious conditions like appendicitis or gallstones. Treatment may involve medications, dietary changes, surgery, or other interventions specific to the cause of the pain.\\n\\n5. Neuropathic pain: Neuropathic pain, which is caused by damage or dysfunction of the nerves, can occur in various body parts. Treatment may involve medications such as antidepressants, anticonvulsants, or topical creams, as well as physical therapy, nerve blocks, or other specialized interventions.\\n\\nIt is important to note that pain treatment is highly individualized, and the specific approach may vary based on the patient's medical history, preferences, and the recommendations of healthcare professionals.\""
      ]
     },
     "execution_count": 34,
     "metadata": {},
     "output_type": "execute_result"
    }
   ],
   "source": [
    "chat_model.predict(\"How does pain treatment vary based on body location?\")"
   ]
  },
  {
   "cell_type": "markdown",
   "metadata": {},
   "source": [
    "#### Prompts"
   ]
  },
  {
   "cell_type": "code",
   "execution_count": 32,
   "metadata": {},
   "outputs": [
    {
     "data": {
      "text/plain": [
       "\"\\n                  You're an assistant that helps hospital admins understand how patients percieve ther hospitals by analyzing patient reviews.\\n                  Use the following reviews to answer questions:\\n                  yeah boi\\n                  \\n                  hello?\\n                  \""
      ]
     },
     "execution_count": 32,
     "metadata": {},
     "output_type": "execute_result"
    }
   ],
   "source": [
    "from langchain.prompts import ChatPromptTemplate\n",
    "\n",
    "visit_template = \"\"\"\n",
    "                  You're an assistant knowledgeable about the hospitals, patients, providers, physicians, and visits in a hospital system.\n",
    "                  Use the following description of visits to answer questions. Do not use any external knowledge besides what is provided \n",
    "                  in the visit description.\n",
    "                  {descriptions}\n",
    "                  \n",
    "                  {question}\n",
    "                  \"\"\"\n",
    "                  \n",
    "review_template = \"\"\"\n",
    "                  You're an assistant that helps hospital admins understand how patients percieve ther hospitals by analyzing patient reviews.\n",
    "                  Use the following reviews to answer questions:\n",
    "                  {reviews}\n",
    "                  \n",
    "                  {question}\n",
    "                  \"\"\"\n",
    "\n",
    "review_prompt = ChatPromptTemplate.from_template(review_template)\n",
    "visit_prompt = ChatPromptTemplate.from_template(visit_template)\n",
    "review_template.format(reviews=\"yeah boi\", question=\"hello?\")"
   ]
  },
  {
   "cell_type": "code",
   "execution_count": 10,
   "metadata": {},
   "outputs": [
    {
     "data": {
      "text/plain": [
       "AIMessage(content=\"Yes, one patient has complained about a hospital's cleanliness. They mentioned that their stay was marred by a lack of cleanliness in the facilities. They emphasized the importance of maintaining a hygienic environment to prevent infections and ensure patient well-being.\")"
      ]
     },
     "execution_count": 10,
     "metadata": {},
     "output_type": "execute_result"
    }
   ],
   "source": [
    "reviews = \"\"\"\n",
    " \"The medical staff at the hospital were incredibly attentive and supportive during my stay. The facilities were top-notch, making my recovery comfortable and smooth.\"\n",
    " \"My time at the hospital was challenging. The nurses seemed overwhelmed, and communication between the staff and patients was lacking. Improvement is needed in patient care.\"\n",
    " \"I'm grateful for the exceptional care I received at the hospital. The doctors were thorough in explaining my condition, and the compassionate nurses made my recovery a positive experience.\"\n",
    " \"Unfortunately, my stay was marred by a lack of cleanliness in the facilities. It's essential for the hospital to maintain a hygienic environment to prevent infections and ensure patient well-being.\"\n",
    " \"The hospital staff went above and beyond to make me feel comfortable and informed about my treatment. The positive attitude of the medical team greatly contributed to my overall well-being.\n",
    " \"I had a mixed experience during my stay. While the medical care was satisfactory, the administrative process felt disorganized and resulted in unnecessary delays in my treatment.\"\n",
    " \"\"\"\n",
    " \n",
    "question = \"Have any patients complained about a hospital's cleanliness? If so, describe the situation.\"\n",
    "\n",
    "chain = review_prompt | chat_model\n",
    "chain.invoke({\"reviews\":reviews, \"question\":question})"
   ]
  },
  {
   "cell_type": "markdown",
   "metadata": {},
   "source": [
    "#### Retrieval"
   ]
  },
  {
   "cell_type": "code",
   "execution_count": 12,
   "metadata": {},
   "outputs": [
    {
     "name": "stdout",
     "output_type": "stream",
     "text": [
      ": 0\n",
      "review_id: 0\n",
      "visit_id: 6997\n",
      "review: The medical staff at the hospital were incredibly attentive and supportive during my stay. The facilities were top-notch, making my recovery comfortable and smooth.\n"
     ]
    }
   ],
   "source": [
    "from langchain.document_loaders.csv_loader import CSVLoader\n",
    "from langchain.vectorstores import Chroma\n",
    "from langchain.embeddings import SentenceTransformerEmbeddings\n",
    "\n",
    "loader = CSVLoader(file_path=REVIEWS_PATH, source_column=\"review\")\n",
    "reviews= loader.load()\n",
    "print(reviews[0].page_content)"
   ]
  },
  {
   "cell_type": "code",
   "execution_count": 24,
   "metadata": {},
   "outputs": [],
   "source": [
    "# Takes a while to run\n",
    "embedding_model = SentenceTransformerEmbeddings(model_name=\"sentence-transformers/all-mpnet-base-v2\")\n",
    "reviews_vector_db = Chroma.from_documents(reviews, embedding_model, persist_directory=\"../src/chroma_data/review_embeddings/\")"
   ]
  },
  {
   "cell_type": "code",
   "execution_count": 28,
   "metadata": {},
   "outputs": [],
   "source": [
    "reviews_vector_db = Chroma(embedding_function=embedding_model, persist_directory=\"../src/chroma_data/review_embeddings/\")"
   ]
  },
  {
   "cell_type": "code",
   "execution_count": 29,
   "metadata": {},
   "outputs": [
    {
     "name": "stdout",
     "output_type": "stream",
     "text": [
      ": 33\n",
      "review_id: 33\n",
      "visit_id: 7503\n",
      "review: My stay at the hospital was marred by a lack of cleanliness in my room. It was evident that the facilities were not properly maintained. Disappointing given the importance of hygiene in a healthcare setting.\n",
      ": 33\n",
      "review_id: 33\n",
      "visit_id: 7503\n",
      "review: My stay at the hospital was marred by a lack of cleanliness in my room. It was evident that the facilities were not properly maintained. Disappointing given the importance of hygiene in a healthcare setting.\n",
      ": 24\n",
      "review_id: 24\n",
      "visit_id: 7628\n",
      "review: The cleanliness and hygiene standards at the hospital were exceptional, contributing to a sense of safety. However, the lack of family-friendly accommodations limited the support system available during my stay.\n",
      ": 24\n",
      "review_id: 24\n",
      "visit_id: 7628\n",
      "review: The cleanliness and hygiene standards at the hospital were exceptional, contributing to a sense of safety. However, the lack of family-friendly accommodations limited the support system available during my stay.\n"
     ]
    }
   ],
   "source": [
    "query = \"Have any patients complained about a hospital being unclean? If so, describe the situations.\"\n",
    "docs = reviews_vector_db.similarity_search(query)\n",
    "\n",
    "for d in docs:\n",
    "    \n",
    "    print(d.page_content)"
   ]
  },
  {
   "cell_type": "code",
   "execution_count": 37,
   "metadata": {},
   "outputs": [],
   "source": [
    "from langchain.schema.runnable import RunnablePassthrough\n",
    "from langchain.schema.output_parser import StrOutputParser\n",
    "\n",
    "review_vector_retriever = reviews_vector_db.as_retriever(k=10)\n",
    "\n",
    "review_chain = (\n",
    "    {\"reviews\": review_vector_retriever, \"question\": RunnablePassthrough()}\n",
    "    | review_prompt\n",
    "    | chat_model\n",
    "    | StrOutputParser()\n",
    ")"
   ]
  },
  {
   "cell_type": "code",
   "execution_count": 19,
   "metadata": {},
   "outputs": [
    {
     "data": {
      "text/plain": [
       "'Yes, patients have complained about a hospital being unclean. In one review, the patient mentioned that their stay at the hospital was marred by a lack of cleanliness in their room. They observed that the facilities were not properly maintained, which was disappointing given the importance of hygiene in a healthcare setting.'"
      ]
     },
     "execution_count": 19,
     "metadata": {},
     "output_type": "execute_result"
    }
   ],
   "source": [
    "review_chain.invoke(\"Have any patients complained about a hospital being unclean? If so, describe the situations.\")"
   ]
  },
  {
   "cell_type": "code",
   "execution_count": 30,
   "metadata": {},
   "outputs": [
    {
     "name": "stdout",
     "output_type": "stream",
     "text": [
      ": 0\n",
      "visit_id: 0\n",
      "visit_description: patient id: 0 \n",
      " date of admission: 2022-11-17 \n",
      " billing amount: 37490.98336352819 \n",
      " room number: 146 \n",
      " admission type: Elective \n",
      " discharge date: 2022-12-01 \n",
      " test results: Inconclusive \n",
      " visit id: 0 \n",
      " physician id: 102 \n",
      " payer id: 1 \n",
      " hospital id: 0 \n",
      " chief complaint: nan \n",
      " treatment description: nan \n",
      " primary diagnosis: nan \n",
      " visit status: DISCHARGED \n",
      " hospital name: Wallace-Hamilton \n",
      " payer name: UnitedHealthcare \n",
      " patient name: Tiffany Ramirez \n",
      " patient sex: Female \n",
      " patient dob: 1994-10-06 00:00:00 \n",
      " patient blood type: O+ \n",
      " physician name: Leslie Williams \n",
      " physician dob: 1990-08-16 00:00:00 \n",
      " physician grad year: 2020-08-16 00:00:00 \n",
      " medical school: University of Michigan Medical School \n",
      " salary: 311158.79702275497\n"
     ]
    }
   ],
   "source": [
    "loader = CSVLoader(file_path=VISIT_DESCRIPTIONS_PATH, source_column=\"visit_description\")\n",
    "visit_descriptions = loader.load()\n",
    "print(visit_descriptions[0].page_content)"
   ]
  },
  {
   "cell_type": "code",
   "execution_count": 31,
   "metadata": {},
   "outputs": [],
   "source": [
    "# Takes a while to run\n",
    "embedding_model = SentenceTransformerEmbeddings(model_name=\"sentence-transformers/all-mpnet-base-v2\")\n",
    "visits_vector_db = Chroma.from_documents(visit_descriptions, embedding_model, persist_directory=\"../src/chroma_data/visit_embeddings/\")"
   ]
  },
  {
   "cell_type": "code",
   "execution_count": 55,
   "metadata": {},
   "outputs": [],
   "source": [
    "visits_vector_retriever = visits_vector_db.as_retriever(k=5)\n",
    "\n",
    "visit_chain = (\n",
    "    {\"descriptions\": visits_vector_retriever, \"question\": RunnablePassthrough()}\n",
    "    | visit_prompt\n",
    "    | chat_model\n",
    "    | StrOutputParser()\n",
    ")"
   ]
  },
  {
   "cell_type": "markdown",
   "metadata": {},
   "source": [
    "#### Agents"
   ]
  },
  {
   "cell_type": "code",
   "execution_count": 35,
   "metadata": {},
   "outputs": [],
   "source": [
    "from langchain.agents import initialize_agent, Tool\n",
    "from langchain.agents import AgentType"
   ]
  },
  {
   "cell_type": "code",
   "execution_count": 78,
   "metadata": {},
   "outputs": [],
   "source": [
    "def ask_about_reviews(query: str):\n",
    "    \n",
    "    return review_chain.invoke(query)\n",
    "\n",
    "def ask_about_visits(query: str):\n",
    "    \n",
    "    return visit_chain.invoke(query)\n",
    "\n",
    "tools = [\n",
    "    Tool(\n",
    "        name=\"Reviews\",\n",
    "        func=review_chain.invoke,\n",
    "        description=\"\"\"Useful when you need to answer questions about patient reviews or experiences at the hopsital.\n",
    "        Not useful for answering questions about specific visit details such as payer, billing, treaetment, \n",
    "        diagnosis, chief complaint, hospital, or phyisican information. Pass the entire question as input to the tool.\n",
    "        \"\"\",\n",
    "    ),\n",
    "    Tool(\n",
    "        name=\"Visits\",\n",
    "        func=visit_chain.invoke,\n",
    "        description=\"\"\"Useful for answering questions about visit details such as payer, billing, treaetment, \n",
    "        diagnosis, chief complaint, hospital, or phyisican information. Only use the provided context to respond. \n",
    "        Pass the entire question as input to the tool.\n",
    "        \"\"\",\n",
    "    ),\n",
    "]\n",
    "\n",
    "hospital_rag_agent = initialize_agent(\n",
    "    tools,\n",
    "    ChatOpenAI(model=\"gpt-3.5-turbo\", temperature=0),\n",
    "    agent=AgentType.ZERO_SHOT_REACT_DESCRIPTION,\n",
    "    verbose=True\n",
    ")"
   ]
  },
  {
   "cell_type": "code",
   "execution_count": 72,
   "metadata": {},
   "outputs": [
    {
     "name": "stdout",
     "output_type": "stream",
     "text": [
      "\n",
      "\n",
      "\u001b[1m> Entering new AgentExecutor chain...\u001b[0m\n",
      "\u001b[32;1m\u001b[1;3m\n",
      "Invoking: `Reviews` with `privacy concerns`\n",
      "\n",
      "\n",
      "\u001b[0m\u001b[36;1m\u001b[1;3mBased on the provided reviews, there are privacy concerns mentioned by patients. One patient mentioned having a challenging experience at the hospital due to the lack of privacy in shared rooms. They emphasized that privacy is essential for patients and improvements in this area would significantly enhance the overall patient experience. Another patient, however, commended the hospital's commitment to patient privacy. They mentioned that the staff ensured confidentiality, creating a safe space for open communication about health concerns.\u001b[0m\u001b[32;1m\u001b[1;3mYes, there have been reviews expressing privacy concerns. One patient mentioned having a challenging experience at the hospital due to the lack of privacy in shared rooms. They emphasized that privacy is essential for patients and improvements in this area would significantly enhance the overall patient experience. Another patient, however, commended the hospital's commitment to patient privacy. They mentioned that the staff ensured confidentiality, creating a safe space for open communication about health concerns.\u001b[0m\n",
      "\n",
      "\u001b[1m> Finished chain.\u001b[0m\n"
     ]
    },
    {
     "data": {
      "text/plain": [
       "\"Yes, there have been reviews expressing privacy concerns. One patient mentioned having a challenging experience at the hospital due to the lack of privacy in shared rooms. They emphasized that privacy is essential for patients and improvements in this area would significantly enhance the overall patient experience. Another patient, however, commended the hospital's commitment to patient privacy. They mentioned that the staff ensured confidentiality, creating a safe space for open communication about health concerns.\""
      ]
     },
     "execution_count": 72,
     "metadata": {},
     "output_type": "execute_result"
    }
   ],
   "source": [
    "hospital_rag_agent.run(\"Have any reviews expressed privacy concerns? Summarize them.\")"
   ]
  },
  {
   "cell_type": "code",
   "execution_count": 80,
   "metadata": {},
   "outputs": [
    {
     "name": "stdout",
     "output_type": "stream",
     "text": [
      "\n",
      "\n",
      "\u001b[1m> Entering new AgentExecutor chain...\u001b[0m\n",
      "\u001b[32;1m\u001b[1;3mI should use the Reviews tool to search for reviews that mention privacy concerns.\n",
      "Action: Reviews\n",
      "Action Input: \"privacy concerns\"\u001b[0m\n",
      "Observation: \u001b[36;1m\u001b[1;3mBased on the provided reviews, there are privacy concerns mentioned by patients. One patient mentioned having a challenging experience at the hospital due to the lack of privacy in shared rooms. They emphasized that privacy is essential for patients and improvements in this area would significantly enhance the overall patient experience. Another patient, however, commended the hospital's commitment to patient privacy. They mentioned that the staff ensured confidentiality, creating a safe space for open communication about health concerns.\u001b[0m\n",
      "Thought:\u001b[32;1m\u001b[1;3mThere are mixed reviews regarding privacy concerns at the hospital. Some patients have expressed concerns about the lack of privacy in shared rooms, while others have praised the hospital's commitment to patient privacy.\n",
      "Final Answer: Yes, there are reviews that have expressed privacy concerns.\u001b[0m\n",
      "\n",
      "\u001b[1m> Finished chain.\u001b[0m\n"
     ]
    },
    {
     "data": {
      "text/plain": [
       "'Yes, there are reviews that have expressed privacy concerns.'"
      ]
     },
     "execution_count": 80,
     "metadata": {},
     "output_type": "execute_result"
    }
   ],
   "source": [
    "hospital_rag_agent.run(\"Have any reviews expressed privacy concerns? Summarize them.\")"
   ]
  },
  {
   "cell_type": "code",
   "execution_count": 79,
   "metadata": {},
   "outputs": [
    {
     "name": "stdout",
     "output_type": "stream",
     "text": [
      "\n",
      "\n",
      "\u001b[1m> Entering new AgentExecutor chain...\u001b[0m\n",
      "\u001b[32;1m\u001b[1;3mI should use the Visits tool to find physicians who have treated Medicare patients.\n",
      "Action: Visits\n",
      "Action Input: \"List physicians who have treated Medicare patients\"\u001b[0m\n",
      "Observation: \u001b[33;1m\u001b[1;3mThe physicians who have treated Medicare patients are:\n",
      "1. Julie Walker\n",
      "2. Ryan Gutierrez\n",
      "3. Tamara Potter\n",
      "4. Patrick Williams\u001b[0m\n",
      "Thought:\u001b[32;1m\u001b[1;3mI now know the final answer\n",
      "Final Answer: The full names of some physicians that have treated Medicare patients are Julie Walker, Ryan Gutierrez, Tamara Potter, and Patrick Williams.\u001b[0m\n",
      "\n",
      "\u001b[1m> Finished chain.\u001b[0m\n"
     ]
    },
    {
     "data": {
      "text/plain": [
       "'The full names of some physicians that have treated Medicare patients are Julie Walker, Ryan Gutierrez, Tamara Potter, and Patrick Williams.'"
      ]
     },
     "execution_count": 79,
     "metadata": {},
     "output_type": "execute_result"
    }
   ],
   "source": [
    "hospital_rag_agent.run(\"List the full names of some physicians that have treated medicare patients\")"
   ]
  }
 ],
 "metadata": {
  "kernelspec": {
   "display_name": "lang_chain_real_python",
   "language": "python",
   "name": "python3"
  },
  "language_info": {
   "codemirror_mode": {
    "name": "ipython",
    "version": 3
   },
   "file_extension": ".py",
   "mimetype": "text/x-python",
   "name": "python",
   "nbconvert_exporter": "python",
   "pygments_lexer": "ipython3",
   "version": "3.11.6"
  }
 },
 "nbformat": 4,
 "nbformat_minor": 2
}
