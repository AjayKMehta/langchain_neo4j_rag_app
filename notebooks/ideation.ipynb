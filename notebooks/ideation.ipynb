{
 "cells": [
  {
   "cell_type": "code",
   "execution_count": 2,
   "metadata": {},
   "outputs": [
    {
     "data": {
      "text/plain": [
       "True"
      ]
     },
     "execution_count": 2,
     "metadata": {},
     "output_type": "execute_result"
    }
   ],
   "source": [
    "import os\n",
    "from langchain.graphs import Neo4jGraph\n",
    "from langchain.vectorstores.neo4j_vector import Neo4jVector\n",
    "from langchain.embeddings import OpenAIEmbeddings\n",
    "from langchain.chains import GraphCypherQAChain, RetrievalQA\n",
    "from langchain.chat_models import ChatOpenAI\n",
    "from langchain.prompts import PromptTemplate, SystemMessagePromptTemplate, HumanMessagePromptTemplate, ChatPromptTemplate\n",
    "from langchain.agents import initialize_agent, Tool\n",
    "from langchain.agents import AgentType\n",
    "from dotenv import load_dotenv\n",
    "load_dotenv(\"../rag_api/.env\")"
   ]
  },
  {
   "cell_type": "code",
   "execution_count": 3,
   "metadata": {},
   "outputs": [],
   "source": [
    "# TODO: visit id look up function"
   ]
  },
  {
   "cell_type": "markdown",
   "metadata": {},
   "source": [
    "#### Connect to Neo4j graph and add data"
   ]
  },
  {
   "cell_type": "code",
   "execution_count": 32,
   "metadata": {},
   "outputs": [],
   "source": [
    "graph = Neo4jGraph(\n",
    "    url=os.getenv(\"NEO4J_URI\"),\n",
    "    username=os.getenv(\"NEO4J_USERNAME\"),\n",
    "    password=os.getenv(\"NEO4J_PASSWORD\")\n",
    ")"
   ]
  },
  {
   "cell_type": "code",
   "execution_count": 3,
   "metadata": {},
   "outputs": [
    {
     "data": {
      "text/plain": [
       "[{'p': [{'admission_date': '2022-11-17',\n",
       "    'discharge_date': '2022-12-01',\n",
       "    'admission_type': 'Elective',\n",
       "    'room_number': 146,\n",
       "    'id': 0,\n",
       "    'test_results': 'Inconclusive',\n",
       "    'status': 'DISCHARGED'},\n",
       "   'COVERED_BY',\n",
       "   {'name': 'UnitedHealthcare', 'id': 1}]},\n",
       " {'p': [{'admission_date': '2023-06-01',\n",
       "    'admission_type': 'Emergency',\n",
       "    'room_number': 404,\n",
       "    'id': 1,\n",
       "    'test_results': 'Normal',\n",
       "    'status': 'OPEN'},\n",
       "   'COVERED_BY',\n",
       "   {'name': 'Blue Cross', 'id': 4}]},\n",
       " {'p': [{'admission_date': '2019-01-09',\n",
       "    'discharge_date': '2019-02-08',\n",
       "    'admission_type': 'Emergency',\n",
       "    'room_number': 292,\n",
       "    'id': 2,\n",
       "    'test_results': 'Normal',\n",
       "    'status': 'DISCHARGED'},\n",
       "   'COVERED_BY',\n",
       "   {'name': 'Aetna', 'id': 2}]},\n",
       " {'p': [{'admission_date': '2020-05-02',\n",
       "    'discharge_date': '2020-05-03',\n",
       "    'admission_type': 'Urgent',\n",
       "    'room_number': 480,\n",
       "    'id': 3,\n",
       "    'test_results': 'Abnormal',\n",
       "    'status': 'DISCHARGED'},\n",
       "   'COVERED_BY',\n",
       "   {'name': 'Blue Cross', 'id': 4}]},\n",
       " {'p': [{'admission_date': '2021-07-09',\n",
       "    'discharge_date': '2021-08-02',\n",
       "    'chief_complaint': 'Persistent cough and shortness of breath',\n",
       "    'treatment_description': 'Prescribed a combination of inhaled bronchodilators (such as albuterol) and corticosteroids to manage airway inflammation. Conducted pulmonary function tests to assess lung function. Administered antibiotics if a bacterial infection was suspected. Advised lifestyle modifications, including smoking cessation and environmental control.',\n",
       "    'admission_type': 'Urgent',\n",
       "    'room_number': 477,\n",
       "    'diagnosis': 'J45.909 - Unspecified asthma, uncomplicated',\n",
       "    'id': 4,\n",
       "    'test_results': 'Normal',\n",
       "    'status': 'DISCHARGED'},\n",
       "   'COVERED_BY',\n",
       "   {'name': 'Aetna', 'id': 2}]},\n",
       " {'p': [{'admission_date': '2020-08-20',\n",
       "    'discharge_date': '2020-08-23',\n",
       "    'admission_type': 'Urgent',\n",
       "    'room_number': 180,\n",
       "    'id': 5,\n",
       "    'test_results': 'Abnormal',\n",
       "    'status': 'DISCHARGED'},\n",
       "   'COVERED_BY',\n",
       "   {'name': 'UnitedHealthcare', 'id': 1}]},\n",
       " {'p': [{'admission_date': '2021-03-22',\n",
       "    'discharge_date': '2021-04-15',\n",
       "    'admission_type': 'Urgent',\n",
       "    'room_number': 161,\n",
       "    'id': 6,\n",
       "    'test_results': 'Abnormal',\n",
       "    'status': 'DISCHARGED'},\n",
       "   'COVERED_BY',\n",
       "   {'name': 'Aetna', 'id': 2}]},\n",
       " {'p': [{'admission_date': '2019-05-16',\n",
       "    'discharge_date': '2019-06-02',\n",
       "    'chief_complaint': 'Sudden loss of vision',\n",
       "    'treatment_description': 'Conduct thorough eye examinations, identify the cause, prescribe appropriate treatments, and refer for specialized care.',\n",
       "    'admission_type': 'Elective',\n",
       "    'room_number': 384,\n",
       "    'diagnosis': 'H54.9 - Unspecified visual impairment',\n",
       "    'id': 7,\n",
       "    'test_results': 'Normal',\n",
       "    'status': 'DISCHARGED'},\n",
       "   'COVERED_BY',\n",
       "   {'name': 'UnitedHealthcare', 'id': 1}]},\n",
       " {'p': [{'admission_date': '2020-12-17',\n",
       "    'discharge_date': '2020-12-22',\n",
       "    'chief_complaint': 'Patient describes a sudden, severe pain in the hip.',\n",
       "    'treatment_description': 'Assess for musculoskeletal issues or possible injury; prescribe pain relievers and recommend physical therapy.',\n",
       "    'admission_type': 'Elective',\n",
       "    'room_number': 215,\n",
       "    'diagnosis': 'M19.9 - Osteoarthritis, unspecified',\n",
       "    'id': 8,\n",
       "    'test_results': 'Abnormal',\n",
       "    'status': 'DISCHARGED'},\n",
       "   'COVERED_BY',\n",
       "   {'name': 'UnitedHealthcare', 'id': 1}]},\n",
       " {'p': [{'admission_date': '2022-12-15',\n",
       "    'discharge_date': '2022-12-16',\n",
       "    'chief_complaint': 'Burning sensation during urination',\n",
       "    'treatment_description': 'Urinalysis, assessment for urinary tract infection, and prescription of antibiotics if confirmed.',\n",
       "    'admission_type': 'Urgent',\n",
       "    'room_number': 310,\n",
       "    'diagnosis': 'N39.0 - Urinary tract infection, site not specified',\n",
       "    'id': 9,\n",
       "    'test_results': 'Normal',\n",
       "    'status': 'DISCHARGED'},\n",
       "   'COVERED_BY',\n",
       "   {'name': 'Cigna', 'id': 3}]},\n",
       " {'p': [{'admission_date': '2021-04-13',\n",
       "    'discharge_date': '2021-05-11',\n",
       "    'admission_type': 'Emergency',\n",
       "    'room_number': 306,\n",
       "    'id': 10,\n",
       "    'test_results': 'Abnormal',\n",
       "    'status': 'DISCHARGED'},\n",
       "   'COVERED_BY',\n",
       "   {'name': 'UnitedHealthcare', 'id': 1}]},\n",
       " {'p': [{'admission_date': '2019-06-09',\n",
       "    'discharge_date': '2019-06-26',\n",
       "    'admission_type': 'Emergency',\n",
       "    'room_number': 126,\n",
       "    'id': 11,\n",
       "    'test_results': 'Inconclusive',\n",
       "    'status': 'DISCHARGED'},\n",
       "   'COVERED_BY',\n",
       "   {'name': 'Aetna', 'id': 2}]},\n",
       " {'p': [{'admission_date': '2021-11-29',\n",
       "    'discharge_date': '2021-12-14',\n",
       "    'admission_type': 'Elective',\n",
       "    'room_number': 444,\n",
       "    'id': 12,\n",
       "    'test_results': 'Inconclusive',\n",
       "    'status': 'DISCHARGED'},\n",
       "   'COVERED_BY',\n",
       "   {'name': 'Cigna', 'id': 3}]},\n",
       " {'p': [{'admission_date': '2022-07-07',\n",
       "    'discharge_date': '2022-08-02',\n",
       "    'admission_type': 'Elective',\n",
       "    'room_number': 338,\n",
       "    'id': 7992,\n",
       "    'test_results': 'Abnormal',\n",
       "    'status': 'DISCHARGED'},\n",
       "   'COVERED_BY',\n",
       "   {'name': 'Cigna', 'id': 3}]},\n",
       " {'p': [{'admission_date': '2021-11-28',\n",
       "    'discharge_date': '2021-12-23',\n",
       "    'admission_type': 'Emergency',\n",
       "    'room_number': 212,\n",
       "    'id': 8815,\n",
       "    'test_results': 'Abnormal',\n",
       "    'status': 'DISCHARGED'},\n",
       "   'COVERED_BY',\n",
       "   {'name': 'UnitedHealthcare', 'id': 1}]},\n",
       " {'p': [{'admission_date': '2021-07-29',\n",
       "    'discharge_date': '2021-08-14',\n",
       "    'admission_type': 'Elective',\n",
       "    'room_number': 492,\n",
       "    'id': 13,\n",
       "    'test_results': 'Normal',\n",
       "    'status': 'DISCHARGED'},\n",
       "   'COVERED_BY',\n",
       "   {'name': 'Blue Cross', 'id': 4}]},\n",
       " {'p': [{'admission_date': '2021-06-05',\n",
       "    'discharge_date': '2021-06-25',\n",
       "    'admission_type': 'Emergency',\n",
       "    'room_number': 120,\n",
       "    'id': 14,\n",
       "    'test_results': 'Inconclusive',\n",
       "    'status': 'DISCHARGED'},\n",
       "   'COVERED_BY',\n",
       "   {'name': 'Blue Cross', 'id': 4}]},\n",
       " {'p': [{'admission_date': '2021-08-07',\n",
       "    'discharge_date': '2021-08-14',\n",
       "    'admission_type': 'Emergency',\n",
       "    'room_number': 492,\n",
       "    'id': 15,\n",
       "    'test_results': 'Inconclusive',\n",
       "    'status': 'DISCHARGED'},\n",
       "   'COVERED_BY',\n",
       "   {'name': 'Cigna', 'id': 3}]},\n",
       " {'p': [{'admission_date': '2019-11-15',\n",
       "    'discharge_date': '2019-12-04',\n",
       "    'chief_complaint': 'Speech difficulties',\n",
       "    'treatment_description': 'Speech therapy, medications, and addressing underlying causes such as stroke, neurological conditions, or vocal cord issues.',\n",
       "    'admission_type': 'Elective',\n",
       "    'room_number': 315,\n",
       "    'diagnosis': 'R47.9 - Speech disturbance, unspecified',\n",
       "    'id': 16,\n",
       "    'test_results': 'Inconclusive',\n",
       "    'status': 'DISCHARGED'},\n",
       "   'COVERED_BY',\n",
       "   {'name': 'UnitedHealthcare', 'id': 1}]},\n",
       " {'p': [{'admission_date': '2022-03-08',\n",
       "    'discharge_date': '2022-03-16',\n",
       "    'chief_complaint': 'Chief complaint is a constant feeling of heat and sweating.',\n",
       "    'treatment_description': 'Evaluate for possible hormonal issues or conditions such as hyperthyroidism; recommend further endocrine testing and appropriate interventions.',\n",
       "    'admission_type': 'Elective',\n",
       "    'room_number': 475,\n",
       "    'diagnosis': 'M79.2 - Neuralgia and neuritis, unspecified',\n",
       "    'id': 17,\n",
       "    'test_results': 'Inconclusive',\n",
       "    'status': 'DISCHARGED'},\n",
       "   'COVERED_BY',\n",
       "   {'name': 'Blue Cross', 'id': 4}]},\n",
       " {'p': [{'admission_date': '2022-06-19',\n",
       "    'discharge_date': '2022-06-29',\n",
       "    'admission_type': 'Elective',\n",
       "    'room_number': 125,\n",
       "    'id': 18,\n",
       "    'test_results': 'Inconclusive',\n",
       "    'status': 'DISCHARGED'},\n",
       "   'COVERED_BY',\n",
       "   {'name': 'UnitedHealthcare', 'id': 1}]},\n",
       " {'p': [{'admission_date': '2019-07-10',\n",
       "    'discharge_date': '2019-08-07',\n",
       "    'admission_type': 'Emergency',\n",
       "    'room_number': 366,\n",
       "    'id': 19,\n",
       "    'test_results': 'Inconclusive',\n",
       "    'status': 'DISCHARGED'},\n",
       "   'COVERED_BY',\n",
       "   {'name': 'UnitedHealthcare', 'id': 1}]},\n",
       " {'p': [{'admission_date': '2023-02-25',\n",
       "    'discharge_date': '2023-03-27',\n",
       "    'chief_complaint': 'Odd discoloration of the skin',\n",
       "    'treatment_description': 'Dermatological evaluation, topical treatments, and addressing underlying causes such as vascular issues or skin conditions.',\n",
       "    'admission_type': 'Emergency',\n",
       "    'room_number': 238,\n",
       "    'diagnosis': 'L29.9 - Pruritus, unspecified',\n",
       "    'id': 20,\n",
       "    'test_results': 'Normal',\n",
       "    'status': 'DISCHARGED'},\n",
       "   'COVERED_BY',\n",
       "   {'name': 'Cigna', 'id': 3}]},\n",
       " {'p': [{'admission_date': '2019-06-21',\n",
       "    'discharge_date': '2019-07-13',\n",
       "    'admission_type': 'Elective',\n",
       "    'room_number': 145,\n",
       "    'id': 1280,\n",
       "    'test_results': 'Inconclusive',\n",
       "    'status': 'DISCHARGED'},\n",
       "   'COVERED_BY',\n",
       "   {'name': 'Cigna', 'id': 3}]},\n",
       " {'p': [{'admission_date': '2022-12-12',\n",
       "    'discharge_date': '2022-12-26',\n",
       "    'admission_type': 'Urgent',\n",
       "    'room_number': 364,\n",
       "    'id': 21,\n",
       "    'test_results': 'Abnormal',\n",
       "    'status': 'DISCHARGED'},\n",
       "   'COVERED_BY',\n",
       "   {'name': 'Medicare', 'id': 0}]}]"
      ]
     },
     "execution_count": 3,
     "metadata": {},
     "output_type": "execute_result"
    }
   ],
   "source": [
    "graph.query(\n",
    "    \"MATCH p=()-[:COVERED_BY]->() RETURN p LIMIT 25;\"\n",
    ")"
   ]
  },
  {
   "cell_type": "markdown",
   "metadata": {},
   "source": [
    "#### Create a Neo4j vector index \n",
    "- This vector index embedds specified text properties of a node to enable semantic search"
   ]
  },
  {
   "cell_type": "code",
   "execution_count": 6,
   "metadata": {},
   "outputs": [],
   "source": [
    "vector_index = Neo4jVector.from_existing_graph(\n",
    "    OpenAIEmbeddings(),\n",
    "    url=os.getenv(\"NEO4J_URI\"),\n",
    "    username=os.getenv(\"NEO4J_USERNAME\"),\n",
    "    password=os.getenv(\"NEO4J_PASSWORD\"),\n",
    "    index_name='reviews',\n",
    "    node_label=\"Review\",\n",
    "    text_node_properties=[\n",
    "        'physician_name',\n",
    "        'patient_name',\n",
    "        'text',\n",
    "        'hospital_name'\n",
    "    ],\n",
    "    embedding_node_property='embedding'\n",
    ")"
   ]
  },
  {
   "cell_type": "code",
   "execution_count": 7,
   "metadata": {},
   "outputs": [
    {
     "name": "stdout",
     "output_type": "stream",
     "text": [
      "\n",
      "physician_name: Jennifer Evans\n",
      "patient_name: Sarah Love\n",
      "text: I appreciate the excellent medical care I received. Still, the noise levels in the hallway outside my room were disruptive and affected my rest.\n",
      "hospital_name: Castaneda-Hardy\n",
      "\n",
      "physician_name: Victoria Chavez\n",
      "patient_name: David Kim\n",
      "text: The hospital staff was accommodating to my needs, but the noise levels in the hallway were disruptive and affected my ability to rest.\n",
      "hospital_name: Wallace-Hamilton\n",
      "\n",
      "physician_name: Timothy Gibson\n",
      "patient_name: Natalie Rojas\n",
      "text: The medical staff was attentive and caring, providing quality care. Unfortunately, the noise from construction outside my room was disruptive and affected my rest.\n",
      "hospital_name: Garcia Ltd\n",
      "\n",
      "physician_name: Joseph Roman\n",
      "patient_name: Caleb Coleman\n",
      "text: The hospital's medical team was competent, but the noise level in the ward was disruptive, affecting my ability to rest.\n",
      "hospital_name: Richardson-Powell\n",
      "\n",
      "physician_name: Ryan Jarvis\n",
      "patient_name: Douglas Hickman\n",
      "text: The hospital's facilities were state-of-the-art, and the medical staff was knowledgeable. However, the noise from construction nearby was bothersome.\n",
      "hospital_name: Pearson LLC\n",
      "\n",
      "physician_name: Courtney Walton\n",
      "patient_name: Ricky Burns\n",
      "text: I had a mixed experience. The medical care was excellent, but the noise levels in the ward were disruptive, making it challenging to rest.\n",
      "hospital_name: Bell, Mcknight and Willis\n",
      "\n",
      "physician_name: Teresa Frost\n",
      "patient_name: Kelsey Mills\n",
      "text: The hospital's medical team was competent, but the noise level in the ward was disruptive, affecting my ability to rest.\n",
      "hospital_name: Walton LLC\n",
      "\n",
      "physician_name: Charles Kim\n",
      "patient_name: Kyle Byrd\n",
      "text: The hospital provided excellent care, and the staff was attentive to my needs. However, the noise level in the ward was a bit disruptive.\n",
      "hospital_name: Little-Spencer\n",
      "\n",
      "physician_name: Edward Miller\n",
      "patient_name: Sarah Lopez\n",
      "text: The hospital provided excellent care, and the staff was attentive to my needs. However, the noise level in the ward was a bit disruptive.\n",
      "hospital_name: Boyd PLC\n",
      "\n",
      "physician_name: Taylor Williams PhD\n",
      "patient_name: Tasha Dunn\n",
      "text: I appreciated the hospital's efforts to create a comfortable environment for patients. However, the noise from construction in the adjacent building was disruptive.\n",
      "hospital_name: Garcia Ltd\n"
     ]
    }
   ],
   "source": [
    "response = vector_index.similarity_search(\n",
    "    \"Are patients complaining about noise?\", k = 10\n",
    ")\n",
    "\n",
    "for resp in response:\n",
    "    \n",
    "    print(resp.page_content)"
   ]
  },
  {
   "cell_type": "code",
   "execution_count": 16,
   "metadata": {},
   "outputs": [
    {
     "name": "stdout",
     "output_type": "stream",
     "text": [
      "\n",
      "physician_name: Colleen Ward\n",
      "patient_name: Sarah Thomas\n",
      "text: The hospital's nursing staff were a mixed bag. While some were compassionate and attentive, others seemed disinterested and inattentive. Consistent training and expectations are necessary for quality patient care.\n",
      "hospital_name: Castaneda-Hardy\n",
      "\n",
      "physician_name: Denise Perez\n",
      "patient_name: Tara Knight\n",
      "text: The hospital provided exceptional care, and the nursing staff was incredibly supportive. However, the administrative processes were a bit convoluted, causing some confusion.\n",
      "hospital_name: Castaneda-Hardy\n",
      "\n",
      "physician_name: Jennifer Quinn\n",
      "patient_name: Victoria Arroyo\n",
      "text: I received excellent medical care during my stay, and the nursing staff was attentive. Unfortunately, the lack of clear communication about the discharge process caused some anxiety.\n",
      "hospital_name: Castaneda-Hardy\n",
      "\n",
      "physician_name: Nicole Keith\n",
      "patient_name: Stacey Cohen\n",
      "text: I received excellent care at the hospital. The staff was knowledgeable and caring, but the outdated decor in the rooms was a drawback.\n",
      "hospital_name: Castaneda-Hardy\n",
      "\n",
      "physician_name: Jennifer Quinn\n",
      "patient_name: Amy Nichols\n",
      "text: The hospital staff were professional and attentive, making my stay as comfortable as possible. The communication about my treatment plan was clear, contributing to a positive overall experience.\n",
      "hospital_name: Castaneda-Hardy\n",
      "\n",
      "physician_name: Breanna Cruz\n",
      "patient_name: Jessica Noble\n",
      "text: The hospital's medical staff provided excellent care, and the facilities were clean and well-maintained. Unfortunately, the lack of a proper bedside manner from one of the doctors was disappointing.\n",
      "hospital_name: Castaneda-Hardy\n",
      "\n",
      "physician_name: Sabrina Rodriguez\n",
      "patient_name: Willie Brewer\n",
      "text: The hospital provided excellent care, and the staff was compassionate. However, the lack of greenery or outdoor spaces for patients to relax was a downside.\n",
      "hospital_name: Castaneda-Hardy\n",
      "\n",
      "physician_name: David Perez\n",
      "patient_name: Autumn Proctor\n",
      "text: I had a positive experience overall at the hospital. The medical staff was compassionate, and the facilities were clean and well-maintained.\n",
      "hospital_name: Castaneda-Hardy\n",
      "\n",
      "physician_name: Thomas Harrell\n",
      "patient_name: Dylan Hart\n",
      "text: The nursing staff provided excellent care and support during my stay. However, the outdated TV sets in the rooms and limited channel selection left much to be desired in terms of entertainment.\n",
      "hospital_name: Castaneda-Hardy\n",
      "\n",
      "physician_name: Jesus Snyder\n",
      "patient_name: Jessica Estes DVM\n",
      "text: The hospital staff was friendly and helpful, and the facilities were clean. However, the lack of communication about my treatment plan was frustrating.\n",
      "hospital_name: Castaneda-Hardy\n"
     ]
    }
   ],
   "source": [
    "response = vector_index.similarity_search(\n",
    "    \"What are patinets saying about the nursing staff at Castaneda-Hardy?\", k = 10\n",
    ")\n",
    "\n",
    "for resp in response:\n",
    "    \n",
    "    print(resp.page_content)"
   ]
  },
  {
   "cell_type": "markdown",
   "metadata": {},
   "source": [
    "#### Create a RAG QA chain from the Neo4j vector index"
   ]
  },
  {
   "cell_type": "code",
   "execution_count": 7,
   "metadata": {},
   "outputs": [],
   "source": [
    "review_template = \"\"\" \n",
    "Your job is to answer questions about hospital reviews from patients. Use\n",
    "the following context to answer questions. Be as detailed as possible, but \n",
    "don't make up any information that's not from the context. If you don't know\n",
    "an answer, say you don't know. \n",
    "\n",
    "{context}\n",
    "\"\"\"\n",
    "\n",
    "review_system_prompt = SystemMessagePromptTemplate(\n",
    "    prompt=PromptTemplate(input_variables=['context'],\n",
    "                          template=review_template)\n",
    ")\n",
    "\n",
    "review_human_prompt = HumanMessagePromptTemplate(prompt=PromptTemplate(input_variables=['question'], template='{question}'))\n",
    "messages = [review_system_prompt, review_human_prompt]\n",
    "\n",
    "review_prompt = ChatPromptTemplate(input_variables=['context', 'question'],\n",
    "                                   messages=messages)\n",
    "\n",
    "vector_qa = RetrievalQA.from_chain_type(\n",
    "    llm = ChatOpenAI(model=\"gpt-3.5-turbo\", temperature=0),\n",
    "    chain_type=\"stuff\",\n",
    "    retriever=vector_index.as_retriever(k=12)\n",
    ")\n",
    "vector_qa.combine_documents_chain.llm_chain.prompt = review_prompt"
   ]
  },
  {
   "cell_type": "code",
   "execution_count": 22,
   "metadata": {},
   "outputs": [
    {
     "name": "stdout",
     "output_type": "stream",
     "text": [
      "{'query': 'Are any patients upset about cleanliness?', 'result': 'Yes, two patients are upset about the cleanliness of the hospital. Kara Gilbert was disappointed with the cleanliness of the hospital and mentioned that the lack of hygiene was a concern for her. Stacy Lindsey also mentioned that her stay at the hospital was marred by a lack of cleanliness in her room and that the facilities were not properly maintained.'}\n"
     ]
    }
   ],
   "source": [
    "answer_stream = vector_qa.stream(\n",
    "     {\"query\": \"Are any patients upset about cleanliness?\"}\n",
    ")\n",
    "\n",
    "for chunk in vector_qa.stream({\"query\": \"Are any patients upset about cleanliness?\"}):\n",
    "     \n",
    "     print(chunk)"
   ]
  },
  {
   "cell_type": "code",
   "execution_count": 115,
   "metadata": {},
   "outputs": [
    {
     "data": {
      "text/plain": [
       "'Yes, there are multiple reviews that mention noise. William Foster, Robert Mcguire, Tyler Sanders DVM, and Timothy Avila all mentioned the noise levels in their respective hospital stays.'"
      ]
     },
     "execution_count": 115,
     "metadata": {},
     "output_type": "execute_result"
    }
   ],
   "source": [
    "vector_qa.run(\n",
    "     \"Are there reviews that mention noise?\"\n",
    ")"
   ]
  },
  {
   "cell_type": "markdown",
   "metadata": {},
   "source": [
    "#### Create a Cypher RAG chain\n",
    "- Instead of performing semantic search, this chain converts natual language propmpts into Cypher queries"
   ]
  },
  {
   "cell_type": "code",
   "execution_count": 38,
   "metadata": {},
   "outputs": [],
   "source": [
    "graph.refresh_schema()\n",
    "\n",
    "from langchain.llms import Together\n",
    "\n",
    "cypher_generation_template = \"\"\"\n",
    "Task:\n",
    "Generate Cypher query for a Neo4j graph database.\n",
    "\n",
    "Instructions:\n",
    "Use only the provided relationship types and properties in the schema.\n",
    "Do not use any other relationship types or properties that are not provided.\n",
    "\n",
    "Schema:\n",
    "{schema}\n",
    "\n",
    "Note: \n",
    "Do not include any explanations or apologies in your responses.\n",
    "Do not respond to any questions that might ask anything else than for you to construct a Cypher statement.\n",
    "Do not include any text except the generated Cypher statement. Make sure the direction of the relationship is \n",
    "correct in your queries. Make sure you alias both entities and relationships properly.\n",
    "\n",
    "Examples:\n",
    "# Who is the oldest patient and how old are they?\n",
    "MATCH (p:Patient)\n",
    "RETURN p.name AS oldest_patient, \n",
    "       duration.between(date(p.dob), date()).years AS age\n",
    "ORDER BY age DESC\n",
    "LIMIT 1\n",
    "\n",
    "# Which physician has billed the least to Cigna\n",
    "MATCH (p:Payer)<-[c:COVERED_BY]-(v:Visit)-[t:TREATS]-(phy:Physician)\n",
    "WHERE p.name = 'Cigna'\n",
    "RETURN phy.name AS physician_name, SUM(c.billing_amount) AS total_billed\n",
    "ORDER BY total_billed \n",
    "LIMIT 1\n",
    "\n",
    "String category values:\n",
    "Test results are one of: 'Inconclusive', 'Normal', 'Abnormal'\n",
    "Visit statuses are one of: 'OPEN', 'DISCHARGED'\n",
    "Admission Types are one of: 'Elective', 'Emergency', 'Urgent'\n",
    "Payer names are one of: 'Cigna', 'Blue Cross', 'UnitedHealthcare', 'Medicare', 'Aetna'\n",
    "\n",
    "A visit is considered open if it's status is 'OPEN' and the discharge date is missing\n",
    "\n",
    "Make sure to use IS NULL or IS NOT NULL when analyzing missing properties.\n",
    "Never return embedding properties in your queries. You must never include the statement \"GROUP BY\" in your query.\n",
    "\n",
    "The question is:\n",
    "{question}\n",
    "\"\"\"\n",
    "\n",
    "cypher_generation_prompt = PromptTemplate(\n",
    "    input_variables=[\"schema\", \"question\"], template=cypher_generation_template\n",
    ")\n",
    "\n",
    "qa_generation_template = \"\"\"\n",
    "You are an assistant that takes the results from a Neo4j Cypher query and forms\n",
    "a nice human-understandable response. The information section contains the results\n",
    "of a Cypher query that was generated based on a users natural language question. \n",
    "The provided information is authoritative, you must never doubt it or try to use your internal knowledge to correct it.\n",
    "Make the answer sound as a response to the question. \n",
    "\n",
    "Information:\n",
    "{context}\n",
    "\n",
    "Question:\n",
    "{question}\n",
    "\n",
    "If the provided information is empty, say that you don't know the answer.\n",
    "Empty information looks like this: []\n",
    "\n",
    "If the information is not empty, you must provide an answer.\n",
    "\n",
    "Helpful Answer:\n",
    "\"\"\"\n",
    "\n",
    "qa_generation_prompt = PromptTemplate(\n",
    "    input_variables=[\"context\", \"question\"], template=qa_generation_template\n",
    ")\n",
    "\n",
    "cypher_llm = Together(\n",
    "    model=\"togethercomputer/llama-2-70b-chat\",\n",
    "    temperature=0.0,\n",
    "    top_k=1,\n",
    "    together_api_key=os.getenv(\"TOGETHER_AI_API_KEY\")\n",
    ")\n",
    "\n",
    "qa_llm = Together(\n",
    "    model=\"togethercomputer/llama-2-70b-chat\",\n",
    "    temperature=0.0,\n",
    "    top_k=1,\n",
    "    together_api_key=os.getenv(\"TOGETHER_AI_API_KEY\")\n",
    ")\n",
    "\n",
    "cypher_chain = GraphCypherQAChain.from_llm(\n",
    "    cypher_llm = ChatOpenAI(model=\"gpt-3.5-turbo\", temperature=0),\n",
    "    qa_llm = ChatOpenAI(model=\"gpt-3.5-turbo\", temperature=0),\n",
    "    graph=graph,\n",
    "    verbose=True,\n",
    "    qa_prompt=qa_generation_prompt,\n",
    "    cypher_prompt=cypher_generation_prompt,\n",
    "    validate_cypher=True\n",
    ")"
   ]
  },
  {
   "cell_type": "code",
   "execution_count": 60,
   "metadata": {},
   "outputs": [
    {
     "data": {
      "text/plain": [
       "294"
      ]
     },
     "execution_count": 60,
     "metadata": {},
     "output_type": "execute_result"
    }
   ],
   "source": [
    "len(cypher_generation_template.split(\" \")) + len(qa_generation_template.split(\" \"))"
   ]
  },
  {
   "cell_type": "code",
   "execution_count": 37,
   "metadata": {},
   "outputs": [
    {
     "name": "stdout",
     "output_type": "stream",
     "text": [
      "\n",
      "\n",
      "\u001b[1m> Entering new GraphCypherQAChain chain...\u001b[0m\n",
      "Generated Cypher:\n",
      "\u001b[32;1m\u001b[1;3m\n",
      "Please provide the Cypher query.\u001b[0m\n"
     ]
    },
    {
     "ename": "ValueError",
     "evalue": "Generated Cypher Statement is not valid\n{code: Neo.ClientError.Statement.SyntaxError} {message: Invalid input 'Please': expected\n  \"ALTER\"\n  \"CALL\"\n  \"CREATE\"\n  \"DEALLOCATE\"\n  \"DELETE\"\n  \"DENY\"\n  \"DETACH\"\n  \"DROP\"\n  \"DRYRUN\"\n  \"ENABLE\"\n  \"FOREACH\"\n  \"GRANT\"\n  \"LOAD\"\n  \"MATCH\"\n  \"MERGE\"\n  \"NODETACH\"\n  \"OPTIONAL\"\n  \"REALLOCATE\"\n  \"REMOVE\"\n  \"RENAME\"\n  \"RETURN\"\n  \"REVOKE\"\n  \"SET\"\n  \"SHOW\"\n  \"START\"\n  \"STOP\"\n  \"TERMINATE\"\n  \"UNWIND\"\n  \"USE\"\n  \"USING\"\n  \"WITH\" (line 2, column 1 (offset: 1))\n\"Please provide the Cypher query.\"\n ^}",
     "output_type": "error",
     "traceback": [
      "\u001b[0;31m---------------------------------------------------------------------------\u001b[0m",
      "\u001b[0;31mCypherSyntaxError\u001b[0m                         Traceback (most recent call last)",
      "File \u001b[0;32m~/Desktop/DataScience/envs/lang_chain_real_python/lib/python3.11/site-packages/langchain/graphs/neo4j_graph.py:112\u001b[0m, in \u001b[0;36mNeo4jGraph.query\u001b[0;34m(self, query, params)\u001b[0m\n\u001b[1;32m    111\u001b[0m \u001b[39mtry\u001b[39;00m:\n\u001b[0;32m--> 112\u001b[0m     data \u001b[39m=\u001b[39m session\u001b[39m.\u001b[39;49mrun(query, params)\n\u001b[1;32m    113\u001b[0m     \u001b[39mreturn\u001b[39;00m [r\u001b[39m.\u001b[39mdata() \u001b[39mfor\u001b[39;00m r \u001b[39min\u001b[39;00m data]\n",
      "File \u001b[0;32m~/Desktop/DataScience/envs/lang_chain_real_python/lib/python3.11/site-packages/neo4j/_sync/work/session.py:312\u001b[0m, in \u001b[0;36mSession.run\u001b[0;34m(self, query, parameters, **kwargs)\u001b[0m\n\u001b[1;32m    311\u001b[0m parameters \u001b[39m=\u001b[39m \u001b[39mdict\u001b[39m(parameters \u001b[39mor\u001b[39;00m {}, \u001b[39m*\u001b[39m\u001b[39m*\u001b[39mkwargs)\n\u001b[0;32m--> 312\u001b[0m \u001b[39mself\u001b[39;49m\u001b[39m.\u001b[39;49m_auto_result\u001b[39m.\u001b[39;49m_run(\n\u001b[1;32m    313\u001b[0m     query, parameters, \u001b[39mself\u001b[39;49m\u001b[39m.\u001b[39;49m_config\u001b[39m.\u001b[39;49mdatabase,\n\u001b[1;32m    314\u001b[0m     \u001b[39mself\u001b[39;49m\u001b[39m.\u001b[39;49m_config\u001b[39m.\u001b[39;49mimpersonated_user, \u001b[39mself\u001b[39;49m\u001b[39m.\u001b[39;49m_config\u001b[39m.\u001b[39;49mdefault_access_mode,\n\u001b[1;32m    315\u001b[0m     bookmarks, \u001b[39mself\u001b[39;49m\u001b[39m.\u001b[39;49m_config\u001b[39m.\u001b[39;49mnotifications_min_severity,\n\u001b[1;32m    316\u001b[0m     \u001b[39mself\u001b[39;49m\u001b[39m.\u001b[39;49m_config\u001b[39m.\u001b[39;49mnotifications_disabled_categories,\n\u001b[1;32m    317\u001b[0m )\n\u001b[1;32m    319\u001b[0m \u001b[39mreturn\u001b[39;00m \u001b[39mself\u001b[39m\u001b[39m.\u001b[39m_auto_result\n",
      "File \u001b[0;32m~/Desktop/DataScience/envs/lang_chain_real_python/lib/python3.11/site-packages/neo4j/_sync/work/result.py:181\u001b[0m, in \u001b[0;36mResult._run\u001b[0;34m(self, query, parameters, db, imp_user, access_mode, bookmarks, notifications_min_severity, notifications_disabled_categories)\u001b[0m\n\u001b[1;32m    180\u001b[0m \u001b[39mself\u001b[39m\u001b[39m.\u001b[39m_connection\u001b[39m.\u001b[39msend_all()\n\u001b[0;32m--> 181\u001b[0m \u001b[39mself\u001b[39;49m\u001b[39m.\u001b[39;49m_attach()\n",
      "File \u001b[0;32m~/Desktop/DataScience/envs/lang_chain_real_python/lib/python3.11/site-packages/neo4j/_sync/work/result.py:292\u001b[0m, in \u001b[0;36mResult._attach\u001b[0;34m(self)\u001b[0m\n\u001b[1;32m    291\u001b[0m \u001b[39mwhile\u001b[39;00m \u001b[39mself\u001b[39m\u001b[39m.\u001b[39m_attached \u001b[39mis\u001b[39;00m \u001b[39mFalse\u001b[39;00m:\n\u001b[0;32m--> 292\u001b[0m     \u001b[39mself\u001b[39;49m\u001b[39m.\u001b[39;49m_connection\u001b[39m.\u001b[39;49mfetch_message()\n",
      "File \u001b[0;32m~/Desktop/DataScience/envs/lang_chain_real_python/lib/python3.11/site-packages/neo4j/_sync/io/_common.py:180\u001b[0m, in \u001b[0;36mConnectionErrorHandler.__getattr__.<locals>.outer.<locals>.inner\u001b[0;34m(*args, **kwargs)\u001b[0m\n\u001b[1;32m    179\u001b[0m \u001b[39mtry\u001b[39;00m:\n\u001b[0;32m--> 180\u001b[0m     func(\u001b[39m*\u001b[39;49margs, \u001b[39m*\u001b[39;49m\u001b[39m*\u001b[39;49mkwargs)\n\u001b[1;32m    181\u001b[0m \u001b[39mexcept\u001b[39;00m (Neo4jError, ServiceUnavailable, SessionExpired) \u001b[39mas\u001b[39;00m exc:\n",
      "File \u001b[0;32m~/Desktop/DataScience/envs/lang_chain_real_python/lib/python3.11/site-packages/neo4j/_sync/io/_bolt.py:851\u001b[0m, in \u001b[0;36mBolt.fetch_message\u001b[0;34m(self)\u001b[0m\n\u001b[1;32m    848\u001b[0m tag, fields \u001b[39m=\u001b[39m \u001b[39mself\u001b[39m\u001b[39m.\u001b[39minbox\u001b[39m.\u001b[39mpop(\n\u001b[1;32m    849\u001b[0m     hydration_hooks\u001b[39m=\u001b[39m\u001b[39mself\u001b[39m\u001b[39m.\u001b[39mresponses[\u001b[39m0\u001b[39m]\u001b[39m.\u001b[39mhydration_hooks\n\u001b[1;32m    850\u001b[0m )\n\u001b[0;32m--> 851\u001b[0m res \u001b[39m=\u001b[39m \u001b[39mself\u001b[39;49m\u001b[39m.\u001b[39;49m_process_message(tag, fields)\n\u001b[1;32m    852\u001b[0m \u001b[39mself\u001b[39m\u001b[39m.\u001b[39midle_since \u001b[39m=\u001b[39m perf_counter()\n",
      "File \u001b[0;32m~/Desktop/DataScience/envs/lang_chain_real_python/lib/python3.11/site-packages/neo4j/_sync/io/_bolt5.py:376\u001b[0m, in \u001b[0;36mBolt5x0._process_message\u001b[0;34m(self, tag, fields)\u001b[0m\n\u001b[1;32m    375\u001b[0m \u001b[39mtry\u001b[39;00m:\n\u001b[0;32m--> 376\u001b[0m     response\u001b[39m.\u001b[39;49mon_failure(summary_metadata \u001b[39mor\u001b[39;49;00m {})\n\u001b[1;32m    377\u001b[0m \u001b[39mexcept\u001b[39;00m (ServiceUnavailable, DatabaseUnavailable):\n",
      "File \u001b[0;32m~/Desktop/DataScience/envs/lang_chain_real_python/lib/python3.11/site-packages/neo4j/_sync/io/_common.py:247\u001b[0m, in \u001b[0;36mResponse.on_failure\u001b[0;34m(self, metadata)\u001b[0m\n\u001b[1;32m    246\u001b[0m Util\u001b[39m.\u001b[39mcallback(handler)\n\u001b[0;32m--> 247\u001b[0m \u001b[39mraise\u001b[39;00m Neo4jError\u001b[39m.\u001b[39mhydrate(\u001b[39m*\u001b[39m\u001b[39m*\u001b[39mmetadata)\n",
      "\u001b[0;31mCypherSyntaxError\u001b[0m: {code: Neo.ClientError.Statement.SyntaxError} {message: Invalid input 'Please': expected\n  \"ALTER\"\n  \"CALL\"\n  \"CREATE\"\n  \"DEALLOCATE\"\n  \"DELETE\"\n  \"DENY\"\n  \"DETACH\"\n  \"DROP\"\n  \"DRYRUN\"\n  \"ENABLE\"\n  \"FOREACH\"\n  \"GRANT\"\n  \"LOAD\"\n  \"MATCH\"\n  \"MERGE\"\n  \"NODETACH\"\n  \"OPTIONAL\"\n  \"REALLOCATE\"\n  \"REMOVE\"\n  \"RENAME\"\n  \"RETURN\"\n  \"REVOKE\"\n  \"SET\"\n  \"SHOW\"\n  \"START\"\n  \"STOP\"\n  \"TERMINATE\"\n  \"UNWIND\"\n  \"USE\"\n  \"USING\"\n  \"WITH\" (line 2, column 1 (offset: 1))\n\"Please provide the Cypher query.\"\n ^}",
      "\nDuring handling of the above exception, another exception occurred:\n",
      "\u001b[0;31mValueError\u001b[0m                                Traceback (most recent call last)",
      "\u001b[1;32m/Users/HarrisonHoffman/Desktop/DataScience/real_python/lang_chain_app/notebooks/ideation.ipynb Cell 17\u001b[0m line \u001b[0;36m1\n\u001b[0;32m----> <a href='vscode-notebook-cell:/Users/HarrisonHoffman/Desktop/DataScience/real_python/lang_chain_app/notebooks/ideation.ipynb#X20sZmlsZQ%3D%3D?line=0'>1</a>\u001b[0m cypher_chain\u001b[39m.\u001b[39;49mrun(\n\u001b[1;32m      <a href='vscode-notebook-cell:/Users/HarrisonHoffman/Desktop/DataScience/real_python/lang_chain_app/notebooks/ideation.ipynb#X20sZmlsZQ%3D%3D?line=1'>2</a>\u001b[0m     \u001b[39m\"\u001b[39;49m\u001b[39mWhat are the most common diagnoses when patients complaint about pain?\u001b[39;49m\u001b[39m\"\u001b[39;49m\n\u001b[1;32m      <a href='vscode-notebook-cell:/Users/HarrisonHoffman/Desktop/DataScience/real_python/lang_chain_app/notebooks/ideation.ipynb#X20sZmlsZQ%3D%3D?line=2'>3</a>\u001b[0m )\n",
      "File \u001b[0;32m~/Desktop/DataScience/envs/lang_chain_real_python/lib/python3.11/site-packages/langchain/chains/base.py:505\u001b[0m, in \u001b[0;36mChain.run\u001b[0;34m(self, callbacks, tags, metadata, *args, **kwargs)\u001b[0m\n\u001b[1;32m    503\u001b[0m     \u001b[39mif\u001b[39;00m \u001b[39mlen\u001b[39m(args) \u001b[39m!=\u001b[39m \u001b[39m1\u001b[39m:\n\u001b[1;32m    504\u001b[0m         \u001b[39mraise\u001b[39;00m \u001b[39mValueError\u001b[39;00m(\u001b[39m\"\u001b[39m\u001b[39m`run` supports only one positional argument.\u001b[39m\u001b[39m\"\u001b[39m)\n\u001b[0;32m--> 505\u001b[0m     \u001b[39mreturn\u001b[39;00m \u001b[39mself\u001b[39;49m(args[\u001b[39m0\u001b[39;49m], callbacks\u001b[39m=\u001b[39;49mcallbacks, tags\u001b[39m=\u001b[39;49mtags, metadata\u001b[39m=\u001b[39;49mmetadata)[\n\u001b[1;32m    506\u001b[0m         _output_key\n\u001b[1;32m    507\u001b[0m     ]\n\u001b[1;32m    509\u001b[0m \u001b[39mif\u001b[39;00m kwargs \u001b[39mand\u001b[39;00m \u001b[39mnot\u001b[39;00m args:\n\u001b[1;32m    510\u001b[0m     \u001b[39mreturn\u001b[39;00m \u001b[39mself\u001b[39m(kwargs, callbacks\u001b[39m=\u001b[39mcallbacks, tags\u001b[39m=\u001b[39mtags, metadata\u001b[39m=\u001b[39mmetadata)[\n\u001b[1;32m    511\u001b[0m         _output_key\n\u001b[1;32m    512\u001b[0m     ]\n",
      "File \u001b[0;32m~/Desktop/DataScience/envs/lang_chain_real_python/lib/python3.11/site-packages/langchain/chains/base.py:310\u001b[0m, in \u001b[0;36mChain.__call__\u001b[0;34m(self, inputs, return_only_outputs, callbacks, tags, metadata, run_name, include_run_info)\u001b[0m\n\u001b[1;32m    308\u001b[0m \u001b[39mexcept\u001b[39;00m \u001b[39mBaseException\u001b[39;00m \u001b[39mas\u001b[39;00m e:\n\u001b[1;32m    309\u001b[0m     run_manager\u001b[39m.\u001b[39mon_chain_error(e)\n\u001b[0;32m--> 310\u001b[0m     \u001b[39mraise\u001b[39;00m e\n\u001b[1;32m    311\u001b[0m run_manager\u001b[39m.\u001b[39mon_chain_end(outputs)\n\u001b[1;32m    312\u001b[0m final_outputs: Dict[\u001b[39mstr\u001b[39m, Any] \u001b[39m=\u001b[39m \u001b[39mself\u001b[39m\u001b[39m.\u001b[39mprep_outputs(\n\u001b[1;32m    313\u001b[0m     inputs, outputs, return_only_outputs\n\u001b[1;32m    314\u001b[0m )\n",
      "File \u001b[0;32m~/Desktop/DataScience/envs/lang_chain_real_python/lib/python3.11/site-packages/langchain/chains/base.py:304\u001b[0m, in \u001b[0;36mChain.__call__\u001b[0;34m(self, inputs, return_only_outputs, callbacks, tags, metadata, run_name, include_run_info)\u001b[0m\n\u001b[1;32m    297\u001b[0m run_manager \u001b[39m=\u001b[39m callback_manager\u001b[39m.\u001b[39mon_chain_start(\n\u001b[1;32m    298\u001b[0m     dumpd(\u001b[39mself\u001b[39m),\n\u001b[1;32m    299\u001b[0m     inputs,\n\u001b[1;32m    300\u001b[0m     name\u001b[39m=\u001b[39mrun_name,\n\u001b[1;32m    301\u001b[0m )\n\u001b[1;32m    302\u001b[0m \u001b[39mtry\u001b[39;00m:\n\u001b[1;32m    303\u001b[0m     outputs \u001b[39m=\u001b[39m (\n\u001b[0;32m--> 304\u001b[0m         \u001b[39mself\u001b[39;49m\u001b[39m.\u001b[39;49m_call(inputs, run_manager\u001b[39m=\u001b[39;49mrun_manager)\n\u001b[1;32m    305\u001b[0m         \u001b[39mif\u001b[39;00m new_arg_supported\n\u001b[1;32m    306\u001b[0m         \u001b[39melse\u001b[39;00m \u001b[39mself\u001b[39m\u001b[39m.\u001b[39m_call(inputs)\n\u001b[1;32m    307\u001b[0m     )\n\u001b[1;32m    308\u001b[0m \u001b[39mexcept\u001b[39;00m \u001b[39mBaseException\u001b[39;00m \u001b[39mas\u001b[39;00m e:\n\u001b[1;32m    309\u001b[0m     run_manager\u001b[39m.\u001b[39mon_chain_error(e)\n",
      "File \u001b[0;32m~/Desktop/DataScience/envs/lang_chain_real_python/lib/python3.11/site-packages/langchain/chains/graph_qa/cypher.py:245\u001b[0m, in \u001b[0;36mGraphCypherQAChain._call\u001b[0;34m(self, inputs, run_manager)\u001b[0m\n\u001b[1;32m    242\u001b[0m \u001b[39m# Retrieve and limit the number of results\u001b[39;00m\n\u001b[1;32m    243\u001b[0m \u001b[39m# Generated Cypher be null if query corrector identifies invalid schema\u001b[39;00m\n\u001b[1;32m    244\u001b[0m \u001b[39mif\u001b[39;00m generated_cypher:\n\u001b[0;32m--> 245\u001b[0m     context \u001b[39m=\u001b[39m \u001b[39mself\u001b[39;49m\u001b[39m.\u001b[39;49mgraph\u001b[39m.\u001b[39;49mquery(generated_cypher)[: \u001b[39mself\u001b[39m\u001b[39m.\u001b[39mtop_k]\n\u001b[1;32m    246\u001b[0m \u001b[39melse\u001b[39;00m:\n\u001b[1;32m    247\u001b[0m     context \u001b[39m=\u001b[39m []\n",
      "File \u001b[0;32m~/Desktop/DataScience/envs/lang_chain_real_python/lib/python3.11/site-packages/langchain/graphs/neo4j_graph.py:115\u001b[0m, in \u001b[0;36mNeo4jGraph.query\u001b[0;34m(self, query, params)\u001b[0m\n\u001b[1;32m    113\u001b[0m     \u001b[39mreturn\u001b[39;00m [r\u001b[39m.\u001b[39mdata() \u001b[39mfor\u001b[39;00m r \u001b[39min\u001b[39;00m data]\n\u001b[1;32m    114\u001b[0m \u001b[39mexcept\u001b[39;00m CypherSyntaxError \u001b[39mas\u001b[39;00m e:\n\u001b[0;32m--> 115\u001b[0m     \u001b[39mraise\u001b[39;00m \u001b[39mValueError\u001b[39;00m(\u001b[39mf\u001b[39m\u001b[39m\"\u001b[39m\u001b[39mGenerated Cypher Statement is not valid\u001b[39m\u001b[39m\\n\u001b[39;00m\u001b[39m{\u001b[39;00me\u001b[39m}\u001b[39;00m\u001b[39m\"\u001b[39m)\n",
      "\u001b[0;31mValueError\u001b[0m: Generated Cypher Statement is not valid\n{code: Neo.ClientError.Statement.SyntaxError} {message: Invalid input 'Please': expected\n  \"ALTER\"\n  \"CALL\"\n  \"CREATE\"\n  \"DEALLOCATE\"\n  \"DELETE\"\n  \"DENY\"\n  \"DETACH\"\n  \"DROP\"\n  \"DRYRUN\"\n  \"ENABLE\"\n  \"FOREACH\"\n  \"GRANT\"\n  \"LOAD\"\n  \"MATCH\"\n  \"MERGE\"\n  \"NODETACH\"\n  \"OPTIONAL\"\n  \"REALLOCATE\"\n  \"REMOVE\"\n  \"RENAME\"\n  \"RETURN\"\n  \"REVOKE\"\n  \"SET\"\n  \"SHOW\"\n  \"START\"\n  \"STOP\"\n  \"TERMINATE\"\n  \"UNWIND\"\n  \"USE\"\n  \"USING\"\n  \"WITH\" (line 2, column 1 (offset: 1))\n\"Please provide the Cypher query.\"\n ^}"
     ]
    }
   ],
   "source": [
    "cypher_chain.run(\n",
    "    \"What are the most common diagnoses when patients complaint about pain?\"\n",
    ")"
   ]
  },
  {
   "cell_type": "code",
   "execution_count": 7,
   "metadata": {},
   "outputs": [
    {
     "name": "stdout",
     "output_type": "stream",
     "text": [
      "\n",
      "\n",
      "\u001b[1m> Entering new GraphCypherQAChain chain...\u001b[0m\n",
      "Generated Cypher:\n",
      "\u001b[32;1m\u001b[1;3mcypher\n",
      "MATCH (ph:Physician)-[:TREATS]->(v:Visit)\n",
      "WHERE v.admission_date STARTS WITH '2022' OR v.admission_date STARTS WITH '2023'\n",
      "WITH ph, \n",
      "     SUM(CASE WHEN v.admission_date STARTS WITH '2022' THEN 1 ELSE 0 END) AS visits_2022,\n",
      "     SUM(CASE WHEN v.admission_date STARTS WITH '2023' THEN 1 ELSE 0 END) AS visits_2023\n",
      "WITH ph, visits_2022, visits_2023, \n",
      "     CASE WHEN visits_2022 = 0 THEN 0 \n",
      "          ELSE (visits_2022 - visits_2023) * 1.0 / visits_2022 \n",
      "     END AS percent_decrease\n",
      "ORDER BY percent_decrease DESC\n",
      "RETURN ph.name AS physician, percent_decrease\n",
      "LIMIT 1\n",
      "\u001b[0m\n",
      "Full Context:\n",
      "\u001b[32;1m\u001b[1;3m[{'physician': 'Joseph Roman', 'percent_decrease': 1.0}]\u001b[0m\n",
      "\n",
      "\u001b[1m> Finished chain.\u001b[0m\n"
     ]
    },
    {
     "data": {
      "text/plain": [
       "'Dr. Joseph Roman experienced the largest percent decrease in visits, with a decrease of 1.0 percent from 2022 to 2023.'"
      ]
     },
     "execution_count": 7,
     "metadata": {},
     "output_type": "execute_result"
    }
   ],
   "source": [
    "cypher_chain.run(\n",
    "    \"Which physician had the largest percent decrease in visits from 2022 to 2023?\"\n",
    ")"
   ]
  },
  {
   "cell_type": "code",
   "execution_count": 12,
   "metadata": {},
   "outputs": [
    {
     "name": "stdout",
     "output_type": "stream",
     "text": [
      "\n",
      "\n",
      "\u001b[1m> Entering new GraphCypherQAChain chain...\u001b[0m\n",
      "Generated Cypher:\n",
      "\u001b[32;1m\u001b[1;3mcypher\n",
      "MATCH (p:Patient)-[:HAS]->(v:Visit)\n",
      "WHERE v.chief_complaint CONTAINS 'hearing' AND v.admission_date >= '2023-01-01' AND v.admission_date <= '2023-12-31'\n",
      "RETURN COUNT(DISTINCT p) AS patients_with_hearing_problems\n",
      "\u001b[0m\n",
      "Full Context:\n",
      "\u001b[32;1m\u001b[1;3m[{'patients_with_hearing_problems': 1}]\u001b[0m\n",
      "\n",
      "\u001b[1m> Finished chain.\u001b[0m\n"
     ]
    },
    {
     "data": {
      "text/plain": [
       "'In 2023, there was one patient who complained of hearing problems.'"
      ]
     },
     "execution_count": 12,
     "metadata": {},
     "output_type": "execute_result"
    }
   ],
   "source": [
    "cypher_chain.run(\n",
    "    \"How many patients complained of hearing problems in 2023?\"\n",
    ")"
   ]
  },
  {
   "cell_type": "code",
   "execution_count": 14,
   "metadata": {},
   "outputs": [
    {
     "name": "stdout",
     "output_type": "stream",
     "text": [
      "\n",
      "\n",
      "\u001b[1m> Entering new GraphCypherQAChain chain...\u001b[0m\n",
      "Generated Cypher:\n",
      "\u001b[32;1m\u001b[1;3mcypher\n",
      "MATCH (p:Patient)-[:HAS]->(v:Visit)\n",
      "WHERE v.chief_complaint CONTAINS \"hearing\"\n",
      "RETURN AVG(duration.between(date(p.dob), date()).years) AS average_age\n",
      "\u001b[0m\n",
      "Full Context:\n",
      "\u001b[32;1m\u001b[1;3m[{'average_age': 66.20000000000002}]\u001b[0m\n",
      "\n",
      "\u001b[1m> Finished chain.\u001b[0m\n"
     ]
    },
    {
     "data": {
      "text/plain": [
       "'The average age of patients with complaints related to hearing is approximately 66.2 years.'"
      ]
     },
     "execution_count": 14,
     "metadata": {},
     "output_type": "execute_result"
    }
   ],
   "source": [
    "cypher_chain.run(\n",
    "    \"What is the average age of patients with complaints related to hearing\"\n",
    ")"
   ]
  },
  {
   "cell_type": "code",
   "execution_count": 107,
   "metadata": {},
   "outputs": [
    {
     "name": "stdout",
     "output_type": "stream",
     "text": [
      "\n",
      "\n",
      "\u001b[1m> Entering new GraphCypherQAChain chain...\u001b[0m\n"
     ]
    },
    {
     "name": "stderr",
     "output_type": "stream",
     "text": [
      "huggingface/tokenizers: The current process just got forked, after parallelism has already been used. Disabling parallelism to avoid deadlocks...\n",
      "To disable this warning, you can either:\n",
      "\t- Avoid using `tokenizers` before the fork if possible\n",
      "\t- Explicitly set the environment variable TOKENIZERS_PARALLELISM=(true | false)\n"
     ]
    },
    {
     "name": "stdout",
     "output_type": "stream",
     "text": [
      "Generated Cypher:\n",
      "\u001b[32;1m\u001b[1;3mcypher\n",
      "MATCH (:Hospital)-[b:BILLS]->(p:Provider)\n",
      "WHERE b.billing_date >= datetime('2023-01-01T00:00:00') AND b.billing_date < datetime('2024-01-01T00:00:00')\n",
      "RETURN p.name AS provider_name, sum(b.amount) AS total_billing_amount\n",
      "\u001b[0m\n",
      "Full Context:\n",
      "\u001b[32;1m\u001b[1;3m[{'provider_name': 'Medicare', 'total_billing_amount': 173956.73228460923}, {'provider_name': 'UnitedHealthcare', 'total_billing_amount': 89229.8576933241}, {'provider_name': 'Aetna', 'total_billing_amount': 105026.32623650707}, {'provider_name': 'Cigna', 'total_billing_amount': 330029.83443260036}, {'provider_name': 'Blue Cross', 'total_billing_amount': 120020.53350910246}]\u001b[0m\n"
     ]
    },
    {
     "name": "stderr",
     "output_type": "stream",
     "text": [
      "huggingface/tokenizers: The current process just got forked, after parallelism has already been used. Disabling parallelism to avoid deadlocks...\n",
      "To disable this warning, you can either:\n",
      "\t- Avoid using `tokenizers` before the fork if possible\n",
      "\t- Explicitly set the environment variable TOKENIZERS_PARALLELISM=(true | false)\n"
     ]
    },
    {
     "name": "stdout",
     "output_type": "stream",
     "text": [
      "\n",
      "\u001b[1m> Finished chain.\u001b[0m\n"
     ]
    },
    {
     "data": {
      "text/plain": [
       "'The total billing amounts charged to various providers for 2023 are as follows:\\n\\n- Medicare was billed a total of $173,956.73.\\n- UnitedHealthcare was billed a total of $89,229.86.\\n- Aetna was billed a total of $105,026.33.\\n- Cigna was billed a total of $330,029.83.\\n- Blue Cross was billed a total of $120,020.53.\\n\\nThese figures represent the billing amounts for each provider based on the data provided.'"
      ]
     },
     "execution_count": 107,
     "metadata": {},
     "output_type": "execute_result"
    }
   ],
   "source": [
    "# Fixed with prompting on 3.5, broken on 4, works on 4-1160\n",
    "cypher_chain.run(\n",
    "    \"What is the total billing amount charged to a provider for 2023?\"\n",
    ")"
   ]
  },
  {
   "cell_type": "code",
   "execution_count": 108,
   "metadata": {},
   "outputs": [
    {
     "name": "stdout",
     "output_type": "stream",
     "text": [
      "\n",
      "\n",
      "\u001b[1m> Entering new GraphCypherQAChain chain...\u001b[0m\n",
      "Generated Cypher:\n",
      "\u001b[32;1m\u001b[1;3mcypher\n",
      "MATCH (:Hospital)-[b:BILLS]->(:Provider)\n",
      "WHERE b.billing_date >= datetime('2023-01-01T00:00:00') AND b.billing_date < datetime('2024-01-01T00:00:00')\n",
      "RETURN sum(b.amount) AS total_billing_amount\n",
      "\u001b[0m\n",
      "Full Context:\n",
      "\u001b[32;1m\u001b[1;3m[{'total_billing_amount': 818263.2841561434}]\u001b[0m\n",
      "\n",
      "\u001b[1m> Finished chain.\u001b[0m\n"
     ]
    },
    {
     "data": {
      "text/plain": [
       "'The total billing amount for 2023 is $818,263.28.'"
      ]
     },
     "execution_count": 108,
     "metadata": {},
     "output_type": "execute_result"
    }
   ],
   "source": [
    "# No context for a simple ass question on 3.5, broken on 4, works on 4-1160\n",
    "cypher_chain.run(\n",
    "    \"What is the total billing amount for 2023?\"\n",
    ")"
   ]
  },
  {
   "cell_type": "code",
   "execution_count": 109,
   "metadata": {},
   "outputs": [
    {
     "name": "stdout",
     "output_type": "stream",
     "text": [
      "\n",
      "\n",
      "\u001b[1m> Entering new GraphCypherQAChain chain...\u001b[0m\n",
      "Generated Cypher:\n",
      "\u001b[32;1m\u001b[1;3mcypher\n",
      "MATCH (:Hospital)-[b:BILLS]->(p:Provider {name: 'Medicare'})\n",
      "RETURN AVG(b.amount) AS average_billing_amount\n",
      "\u001b[0m\n",
      "Full Context:\n",
      "\u001b[32;1m\u001b[1;3m[{'average_billing_amount': 23051.684156172825}]\u001b[0m\n",
      "\n",
      "\u001b[1m> Finished chain.\u001b[0m\n"
     ]
    },
    {
     "data": {
      "text/plain": [
       "'The average billing amount to Medicare providers is $23,051.68.'"
      ]
     },
     "execution_count": 109,
     "metadata": {},
     "output_type": "execute_result"
    }
   ],
   "source": [
    "# Works on 4, broken on 3.5, works on 4-1160\n",
    "cypher_chain.run(\n",
    "    \"What is the average billing amount to medicare providers?\"\n",
    ")"
   ]
  },
  {
   "cell_type": "code",
   "execution_count": 110,
   "metadata": {},
   "outputs": [
    {
     "name": "stdout",
     "output_type": "stream",
     "text": [
      "\n",
      "\n",
      "\u001b[1m> Entering new GraphCypherQAChain chain...\u001b[0m\n",
      "Generated Cypher:\n",
      "\u001b[32;1m\u001b[1;3mcypher\n",
      "MATCH (p:Physician {name: 'Denise Chavez'})-[:TREATS]->(v:Visit)<-[:HAS]-(patient:Patient)\n",
      "RETURN COUNT(DISTINCT patient) AS patients_treated\n",
      "\u001b[0m\n",
      "Full Context:\n",
      "\u001b[32;1m\u001b[1;3m[{'patients_treated': 16}]\u001b[0m\n",
      "\n",
      "\u001b[1m> Finished chain.\u001b[0m\n"
     ]
    },
    {
     "data": {
      "text/plain": [
       "'Denise Chavez has treated 16 patients.'"
      ]
     },
     "execution_count": 110,
     "metadata": {},
     "output_type": "execute_result"
    }
   ],
   "source": [
    "# Looks good: need to check for all\n",
    "cypher_chain.run(\n",
    "    \"How many patients has Denise Chavez treated?\"\n",
    ")"
   ]
  },
  {
   "cell_type": "code",
   "execution_count": 111,
   "metadata": {},
   "outputs": [
    {
     "name": "stdout",
     "output_type": "stream",
     "text": [
      "\n",
      "\n",
      "\u001b[1m> Entering new GraphCypherQAChain chain...\u001b[0m\n",
      "Generated Cypher:\n",
      "\u001b[32;1m\u001b[1;3mcypher\n",
      "MATCH (p:Physician)\n",
      "RETURN p.name AS youngest_physician, \n",
      "       duration.between(date(p.dob), date()).years AS age, \n",
      "       p.salary AS salary\n",
      "ORDER BY age ASC\n",
      "LIMIT 1\n",
      "\u001b[0m\n",
      "Full Context:\n",
      "\u001b[32;1m\u001b[1;3m[{'youngest_physician': 'Erica George', 'age': 29, 'salary': 285571.61618225725}]\u001b[0m\n",
      "\n",
      "\u001b[1m> Finished chain.\u001b[0m\n"
     ]
    },
    {
     "data": {
      "text/plain": [
       "'The youngest physician is Erica George, who is 29 years old. They make a salary of approximately $285,571.62.'"
      ]
     },
     "execution_count": 111,
     "metadata": {},
     "output_type": "execute_result"
    }
   ],
   "source": [
    "# Fixed with prompt example - works for all\n",
    "cypher_chain.run(\n",
    "    \"Who is the youngest physician, how old are they, and how much money do they make?\"\n",
    ")"
   ]
  },
  {
   "cell_type": "code",
   "execution_count": 112,
   "metadata": {},
   "outputs": [
    {
     "name": "stdout",
     "output_type": "stream",
     "text": [
      "\n",
      "\n",
      "\u001b[1m> Entering new GraphCypherQAChain chain...\u001b[0m\n",
      "Generated Cypher:\n",
      "\u001b[32;1m\u001b[1;3mcypher\n",
      "MATCH (p:Patient)-[:HAS]->(v:Visit)-[:AT]->(h:Hospital)\n",
      "WHERE v.discharge_date IS NOT NULL\n",
      "RETURN p.id AS patient_id, \n",
      "       p.name AS patient_name, \n",
      "       p.dob AS patient_dob, \n",
      "       p.sex AS patient_sex, \n",
      "       p.bloodtype AS patient_bloodtype, \n",
      "       v.id AS visit_id, \n",
      "       v.room_number AS room_number, \n",
      "       v.admission_date AS admission_date, \n",
      "       v.test_results AS test_results, \n",
      "       v.discharge_date AS discharge_date, \n",
      "       v.chief_complaints AS chief_complaints, \n",
      "       v.treatment AS treatment, \n",
      "       v.diagnosis AS diagnosis, \n",
      "       h.id AS hospital_id, \n",
      "       h.name AS hospital_name\n",
      "ORDER BY v.discharge_date DESC\n",
      "LIMIT 1\n",
      "\u001b[0m\n",
      "Full Context:\n",
      "\u001b[32;1m\u001b[1;3m[{'patient_id': 9721, 'patient_name': 'Angela Thomas', 'patient_dob': neo4j.time.DateTime(1985, 1, 16, 0, 0, 0, 0, tzinfo=<UTC>), 'patient_sex': 'Male', 'patient_bloodtype': 'AB+', 'visit_id': 9721, 'room_number': 405, 'admission_date': neo4j.time.DateTime(2023, 10, 28, 0, 0, 0, 0, tzinfo=<UTC>), 'test_results': 'Inconclusive', 'discharge_date': neo4j.time.DateTime(2023, 11, 27, 0, 0, 0, 0, tzinfo=<UTC>), 'chief_complaints': None, 'treatment': None, 'diagnosis': None, 'hospital_id': 24, 'hospital_name': 'Schultz-Powers'}]\u001b[0m\n",
      "\n",
      "\u001b[1m> Finished chain.\u001b[0m\n"
     ]
    },
    {
     "data": {
      "text/plain": [
       "'The most recently treated patient is Angela Thomas, with the patient ID 9721. Angela was born on January 16, 1985, and is registered as male with a blood type of AB+. Angela was admitted to room number 405 at Schultz-Powers Hospital, which is identified by hospital ID 24, on October 28, 2023. The test results from the visit were inconclusive. Unfortunately, there is no information available regarding the chief complaints, treatment, or diagnosis. Angela was discharged on November 27, 2023.'"
      ]
     },
     "execution_count": 112,
     "metadata": {},
     "output_type": "execute_result"
    }
   ],
   "source": [
    "# Fixed with prompting works for all\n",
    "cypher_chain.run(\n",
    "    \"Give me all available information about the most recently treated patient.\"\n",
    ")"
   ]
  },
  {
   "cell_type": "code",
   "execution_count": 113,
   "metadata": {},
   "outputs": [
    {
     "name": "stdout",
     "output_type": "stream",
     "text": [
      "\n",
      "\n",
      "\u001b[1m> Entering new GraphCypherQAChain chain...\u001b[0m\n",
      "Generated Cypher:\n",
      "\u001b[32;1m\u001b[1;3mcypher\n",
      "MATCH (v:Visit)\n",
      "WHERE v.chief_complaints IS NULL\n",
      "RETURN count(v) AS missing_chief_complaints\n",
      "\u001b[0m\n",
      "Full Context:\n",
      "\u001b[32;1m\u001b[1;3m[{'missing_chief_complaints': 6998}]\u001b[0m\n",
      "\n",
      "\u001b[1m> Finished chain.\u001b[0m\n"
     ]
    },
    {
     "data": {
      "text/plain": [
       "'There are 6,998 visits missing chief complaints.'"
      ]
     },
     "execution_count": 113,
     "metadata": {},
     "output_type": "execute_result"
    }
   ],
   "source": [
    "# Outdated on 3.5 works on 4 and 4-1160\n",
    "cypher_chain.run(\n",
    "    \"How many visits are missing chief complaints?\"\n",
    ")"
   ]
  },
  {
   "cell_type": "code",
   "execution_count": 114,
   "metadata": {},
   "outputs": [
    {
     "name": "stdout",
     "output_type": "stream",
     "text": [
      "\n",
      "\n",
      "\u001b[1m> Entering new GraphCypherQAChain chain...\u001b[0m\n",
      "Generated Cypher:\n",
      "\u001b[32;1m\u001b[1;3mcypher\n",
      "MATCH (p:Patient)-[:HAS]->(v:Visit)<-[:TREATS]-(ph:Physician)\n",
      "WHERE v.treatment IS NOT NULL\n",
      "RETURN p.id AS patient_id, \n",
      "       p.name AS patient_name, \n",
      "       p.dob AS patient_dob, \n",
      "       p.sex AS patient_sex, \n",
      "       p.bloodtype AS patient_bloodtype, \n",
      "       v.id AS visit_id, \n",
      "       v.room_number AS room_number, \n",
      "       v.admission_date AS admission_date, \n",
      "       v.test_results AS test_results, \n",
      "       v.discharge_date AS discharge_date, \n",
      "       v.chief_complaints AS chief_complaints, \n",
      "       v.treatment AS treatment, \n",
      "       v.diagnosis AS diagnosis, \n",
      "       ph.id AS physician_id, \n",
      "       ph.name AS physician_name, \n",
      "       ph.dob AS physician_dob, \n",
      "       ph.school AS physician_school, \n",
      "       ph.salary AS physician_salary\n",
      "ORDER BY v.admission_date DESC\n",
      "LIMIT 1\n",
      "\u001b[0m\n",
      "Full Context:\n",
      "\u001b[32;1m\u001b[1;3m[{'patient_id': 5742, 'patient_name': 'Krystal Nguyen DDS', 'patient_dob': neo4j.time.DateTime(1969, 9, 14, 0, 0, 0, 0, tzinfo=<UTC>), 'patient_sex': 'Male', 'patient_bloodtype': 'A-', 'visit_id': 5742, 'room_number': 232, 'admission_date': neo4j.time.DateTime(2023, 10, 30, 0, 0, 0, 0, tzinfo=<UTC>), 'test_results': 'Abnormal', 'discharge_date': neo4j.time.DateTime(2023, 10, 31, 0, 0, 0, 0, tzinfo=<UTC>), 'chief_complaints': 'Frequent bleeding from the nose', 'treatment': 'Nasal cauterization, humidifiers, and addressing underlying causes such as nasal polyps or blood clotting disorders.', 'diagnosis': 'R19.8 - Other specified symptoms and signs involving the digestive system and abdomen', 'physician_id': 272, 'physician_name': 'Lance Gonzalez', 'physician_dob': neo4j.time.DateTime(1981, 10, 18, 0, 0, 0, 0, tzinfo=<UTC>), 'physician_school': 'Mayo Clinic Alix School of Medicine', 'physician_salary': 348731.46175800636}]\u001b[0m\n",
      "\n",
      "\u001b[1m> Finished chain.\u001b[0m\n"
     ]
    },
    {
     "data": {
      "text/plain": [
       "\"The most recently treated patient with complete treatment information is Krystal Nguyen DDS. Here are the details:\\n\\n- Patient ID: 5742\\n- Name: Krystal Nguyen DDS\\n- Date of Birth: September 14, 1969\\n- Sex: Male\\n- Blood Type: A-\\n- Visit ID: 5742\\n- Room Number: 232\\n- Admission Date: October 30, 2023\\n- Test Results: Abnormal\\n- Discharge Date: October 31, 2023\\n- Chief Complaints: Frequent bleeding from the nose\\n- Treatment: Nasal cauterization, humidifiers, and addressing underlying causes such as nasal polyps or blood clotting disorders.\\n- Diagnosis: R19.8 - Other specified symptoms and signs involving the digestive system and abdomen\\n- Physician ID: 272\\n- Physician Name: Lance Gonzalez\\n- Physician Date of Birth: October 18, 1981\\n- Physician School: Mayo Clinic Alix School of Medicine\\n- Physician Salary: $348,731.46\\n\\nThis information should provide a comprehensive overview of the patient's recent treatment and the attending physician's details.\""
      ]
     },
     "execution_count": 114,
     "metadata": {},
     "output_type": "execute_result"
    }
   ],
   "source": [
    "# Works on 4 and 4-1160\n",
    "cypher_chain.run(\n",
    "    \"Give me all available information about the most recently treated patient who doesn't have missing treatment information\"\n",
    ")"
   ]
  },
  {
   "cell_type": "code",
   "execution_count": 137,
   "metadata": {},
   "outputs": [
    {
     "name": "stdout",
     "output_type": "stream",
     "text": [
      "\n",
      "\n",
      "\u001b[1m> Entering new GraphCypherQAChain chain...\u001b[0m\n",
      "Generated Cypher:\n",
      "\u001b[32;1m\u001b[1;3mcypher\n",
      "MATCH (v:Visit)\n",
      "WHERE v.test_results = 'Abnormal'\n",
      "WITH COUNT(v) AS abnormal_visits\n",
      "MATCH (v2:Visit)\n",
      "WITH abnormal_visits, COUNT(v2) AS total_visits\n",
      "RETURN (abnormal_visits * 1.0 / total_visits) * 100 AS percentage_abnormal\n",
      "\u001b[0m\n",
      "Full Context:\n",
      "\u001b[32;1m\u001b[1;3m[{'percentage_abnormal': 34.56691338267653}]\u001b[0m\n",
      "\n",
      "\u001b[1m> Finished chain.\u001b[0m\n"
     ]
    },
    {
     "data": {
      "text/plain": [
       "'34.57% of visits have abnormal test results.'"
      ]
     },
     "execution_count": 137,
     "metadata": {},
     "output_type": "execute_result"
    }
   ],
   "source": [
    "# Fixed by prompting on filter value on 4-1160\n",
    "cypher_chain.run(\n",
    "    \"What percentage of visits have abnormal test results?\"\n",
    ")"
   ]
  },
  {
   "cell_type": "code",
   "execution_count": 138,
   "metadata": {},
   "outputs": [
    {
     "name": "stdout",
     "output_type": "stream",
     "text": [
      "\n",
      "\n",
      "\u001b[1m> Entering new GraphCypherQAChain chain...\u001b[0m\n",
      "Generated Cypher:\n",
      "\u001b[32;1m\u001b[1;3mcypher\n",
      "MATCH (v:Visit)\n",
      "WHERE v.admission_date >= datetime('2022-01-01T00:00:00') AND v.admission_date < datetime('2023-01-01T00:00:00') AND v.test_results = 'Abnormal'\n",
      "WITH COUNT(v) AS abnormalVisits\n",
      "MATCH (v2:Visit)\n",
      "WHERE v2.admission_date >= datetime('2022-01-01T00:00:00') AND v2.admission_date < datetime('2023-01-01T00:00:00')\n",
      "WITH abnormalVisits, COUNT(v2) AS totalVisits\n",
      "RETURN (toFloat(abnormalVisits) / totalVisits) * 100 AS percentageAbnormalResults\n",
      "\u001b[0m\n",
      "Full Context:\n",
      "\u001b[32;1m\u001b[1;3m[{'percentageAbnormalResults': 34.55}]\u001b[0m\n",
      "\n",
      "\u001b[1m> Finished chain.\u001b[0m\n"
     ]
    },
    {
     "data": {
      "text/plain": [
       "'In 2022, 34.55% of visits had abnormal test results.'"
      ]
     },
     "execution_count": 138,
     "metadata": {},
     "output_type": "execute_result"
    }
   ],
   "source": [
    "cypher_chain.run(\n",
    "    \"What percentage of visits had abnormal test results in 2022?\"\n",
    ")"
   ]
  },
  {
   "cell_type": "code",
   "execution_count": 139,
   "metadata": {},
   "outputs": [
    {
     "name": "stdout",
     "output_type": "stream",
     "text": [
      "\n",
      "\n",
      "\u001b[1m> Entering new GraphCypherQAChain chain...\u001b[0m\n",
      "Generated Cypher:\n",
      "\u001b[32;1m\u001b[1;3mcypher\n",
      "MATCH (v:Visit)\n",
      "WHERE v.admission_date IS NOT NULL AND v.discharge_date IS NOT NULL\n",
      "RETURN avg(duration.inDays(date(v.admission_date), date(v.discharge_date)).days) AS average_duration_days\n",
      "\u001b[0m\n",
      "Full Context:\n",
      "\u001b[32;1m\u001b[1;3m[{'average_duration_days': 15.567088607594895}]\u001b[0m\n",
      "\n",
      "\u001b[1m> Finished chain.\u001b[0m\n"
     ]
    },
    {
     "data": {
      "text/plain": [
       "'The average duration of a visit is approximately 15.57 days.'"
      ]
     },
     "execution_count": 139,
     "metadata": {},
     "output_type": "execute_result"
    }
   ],
   "source": [
    "# Works on 4-turbo\n",
    "cypher_chain.run(\n",
    "    \"What is the average duration of a visit in days?\"\n",
    ")"
   ]
  },
  {
   "cell_type": "code",
   "execution_count": 140,
   "metadata": {},
   "outputs": [
    {
     "name": "stdout",
     "output_type": "stream",
     "text": [
      "\n",
      "\n",
      "\u001b[1m> Entering new GraphCypherQAChain chain...\u001b[0m\n",
      "Generated Cypher:\n",
      "\u001b[32;1m\u001b[1;3mcypher\n",
      "MATCH (ph:Physician)-[:TREATS]->(v:Visit)-[:AT]->(h:Hospital)\n",
      "WHERE v.discharge_date IS NOT NULL AND v.admission_date IS NOT NULL\n",
      "WITH ph, AVG(duration.inDays(date(v.admission_date), date(v.discharge_date)).days) AS avg_duration\n",
      "RETURN ph.name AS physician, avg_duration\n",
      "ORDER BY avg_duration ASC\n",
      "LIMIT 1\n",
      "\u001b[0m\n",
      "Full Context:\n",
      "\u001b[32;1m\u001b[1;3m[{'physician': 'Kristin Phillips', 'avg_duration': 8.857142857142856}]\u001b[0m\n",
      "\n",
      "\u001b[1m> Finished chain.\u001b[0m\n"
     ]
    },
    {
     "data": {
      "text/plain": [
       "'Dr. Kristin Phillips has the lowest average visit duration, with an average of approximately 8.86 days per visit.'"
      ]
     },
     "execution_count": 140,
     "metadata": {},
     "output_type": "execute_result"
    }
   ],
   "source": [
    "# Works on 4-turbo\n",
    "cypher_chain.run(\n",
    "    \"Which physician has the lowest average visit duration in days?\"\n",
    ")"
   ]
  },
  {
   "cell_type": "code",
   "execution_count": 150,
   "metadata": {},
   "outputs": [
    {
     "name": "stdout",
     "output_type": "stream",
     "text": [
      "\n",
      "\n",
      "\u001b[1m> Entering new GraphCypherQAChain chain...\u001b[0m\n",
      "Generated Cypher:\n",
      "\u001b[32;1m\u001b[1;3mcypher\n",
      "MATCH (p:Patient)-[:HAS]->(:Visit)-[:COVERED_BY]->(prov:Provider)\n",
      "WITH p, count(DISTINCT prov) AS providerCount\n",
      "WHERE providerCount > 1\n",
      "WITH count(p) AS patientsWithMultipleProviders\n",
      "MATCH (p:Patient)\n",
      "WITH count(p) AS totalPatients, patientsWithMultipleProviders\n",
      "RETURN (toFloat(patientsWithMultipleProviders) / toFloat(totalPatients)) * 100 AS percentage\n",
      "\u001b[0m\n",
      "Full Context:\n",
      "\u001b[32;1m\u001b[1;3m[{'percentage': 4.4149652813763085}]\u001b[0m\n",
      "\n",
      "\u001b[1m> Finished chain.\u001b[0m\n"
     ]
    },
    {
     "data": {
      "text/plain": [
       "'4.41% of patients have used more than one provider.'"
      ]
     },
     "execution_count": 150,
     "metadata": {},
     "output_type": "execute_result"
    }
   ],
   "source": [
    "# Works on 4-turbo\n",
    "cypher_chain.run(\n",
    "    \"What percentage of patients have used more than one provider?\"\n",
    ")"
   ]
  },
  {
   "cell_type": "code",
   "execution_count": 162,
   "metadata": {},
   "outputs": [
    {
     "name": "stdout",
     "output_type": "stream",
     "text": [
      "\n",
      "\n",
      "\u001b[1m> Entering new GraphCypherQAChain chain...\u001b[0m\n",
      "Generated Cypher:\n",
      "\u001b[32;1m\u001b[1;3mcypher\n",
      "MATCH (v:Visit)\n",
      "WHERE v.status = 'OPEN' AND v.discharge_date IS NULL\n",
      "RETURN COUNT(v) AS open_visits, \n",
      "       AVG(duration.inDays(date(v.admission_date), date()).days) AS average_duration\n",
      "\u001b[0m\n",
      "Full Context:\n",
      "\u001b[32;1m\u001b[1;3m[{'open_visits': 500, 'average_duration': 183.41599999999983}]\u001b[0m\n",
      "\n",
      "\u001b[1m> Finished chain.\u001b[0m\n"
     ]
    },
    {
     "data": {
      "text/plain": [
       "'Currently, there are 500 open visits, and the average duration of these visits is approximately 183.42 days.'"
      ]
     },
     "execution_count": 162,
     "metadata": {},
     "output_type": "execute_result"
    }
   ],
   "source": [
    "cypher_chain.run(\n",
    "    \"How many visits are open and what is their average duration in days?\"\n",
    ")"
   ]
  },
  {
   "cell_type": "code",
   "execution_count": 166,
   "metadata": {},
   "outputs": [
    {
     "name": "stdout",
     "output_type": "stream",
     "text": [
      "\n",
      "\n",
      "\u001b[1m> Entering new GraphCypherQAChain chain...\u001b[0m\n",
      "Generated Cypher:\n",
      "\u001b[32;1m\u001b[1;3m\u001b[0m\n",
      "Full Context:\n",
      "\u001b[32;1m\u001b[1;3m[]\u001b[0m\n",
      "\n",
      "\u001b[1m> Finished chain.\u001b[0m\n"
     ]
    },
    {
     "data": {
      "text/plain": [
       "\"Based on the information provided, I don't know the answer to the total billing amount for open visits.\""
      ]
     },
     "execution_count": 166,
     "metadata": {},
     "output_type": "execute_result"
    }
   ],
   "source": [
    "cypher_chain.run(\n",
    "    \"What is the total billing amount for open visits?\"\n",
    ")"
   ]
  },
  {
   "cell_type": "code",
   "execution_count": 167,
   "metadata": {},
   "outputs": [
    {
     "name": "stdout",
     "output_type": "stream",
     "text": [
      "\n",
      "\n",
      "\u001b[1m> Entering new GraphCypherQAChain chain...\u001b[0m\n",
      "Generated Cypher:\n",
      "\u001b[32;1m\u001b[1;3mcypher\n",
      "MATCH (v:Visit)\n",
      "WHERE v.admission_date >= datetime('2022-01-01T00:00:00') AND v.admission_date < datetime('2023-01-01T00:00:00') AND v.chief_complaints = 'Emergency'\n",
      "WITH COUNT(v) AS emergency_visits\n",
      "MATCH (v2:Visit)\n",
      "WHERE v2.admission_date >= datetime('2022-01-01T00:00:00') AND v2.admission_date < datetime('2023-01-01T00:00:00')\n",
      "WITH emergency_visits, COUNT(v2) AS total_visits\n",
      "RETURN (emergency_visits * 1.0 / total_visits) * 100 AS emergency_percentage\n",
      "\u001b[0m\n",
      "Full Context:\n",
      "\u001b[32;1m\u001b[1;3m[{'emergency_percentage': 0.0}]\u001b[0m\n",
      "\n",
      "\u001b[1m> Finished chain.\u001b[0m\n"
     ]
    },
    {
     "data": {
      "text/plain": [
       "'In 2022, the percentage of visits that were an emergency was 0.0%.'"
      ]
     },
     "execution_count": 167,
     "metadata": {},
     "output_type": "execute_result"
    }
   ],
   "source": [
    "cypher_chain.run(\n",
    "    \"What percentage of visits were an emergency in 2022?\"\n",
    ")"
   ]
  },
  {
   "cell_type": "markdown",
   "metadata": {},
   "source": [
    "#### Knowledge graph agent\n",
    "Use an agent to combine the unstrucuted text RAG with Cypher RAG dynamically"
   ]
  },
  {
   "cell_type": "code",
   "execution_count": 58,
   "metadata": {},
   "outputs": [],
   "source": [
    "from typing import Any\n",
    "import asyncio\n",
    "import sys\n",
    "import numpy as np\n",
    "from langchain.callbacks.streaming_aiter_final_only import AsyncFinalIteratorCallbackHandler\n",
    "from langchain.callbacks.streaming_stdout_final_only import FinalStreamingStdOutCallbackHandler\n",
    "from langchain.schema import LLMResult\n",
    "\n",
    "\n",
    "def get_current_wait_times(hospital: str) -> str | float:\n",
    "    \n",
    "    \"\"\" TODO \"\"\"\n",
    "    \n",
    "    graph = Neo4jGraph(\n",
    "    url=os.getenv(\"NEO4J_URI\"),\n",
    "    username=os.getenv(\"NEO4J_USERNAME\"),\n",
    "    password=os.getenv(\"NEO4J_PASSWORD\"))\n",
    "    \n",
    "    current_hospitals = graph.query(\"\"\"\n",
    "                                    MATCH (h:Hospital)\n",
    "                                    RETURN h.name AS hospital_name \n",
    "                                    \"\"\")\n",
    "    \n",
    "    current_hospitals = [d[\"hospital_name\"].lower() for d in current_hospitals]\n",
    "    \n",
    "    if hospital.lower() not in current_hospitals:\n",
    "        \n",
    "        return f\"Hospital '{hospital}' does not exist\"\n",
    "    \n",
    "    return np.random.randint(low=0, high=600)\n",
    "            \n",
    "tools = [\n",
    "    Tool(\n",
    "        name=\"Reviews\",\n",
    "        func=vector_qa.run,\n",
    "        description=\"\"\"\n",
    "        Useful when you need to answer questions about patient reviews or experiences. \n",
    "        Not useful for answering objective questions that involve counting or aggregation.\n",
    "        Use full question as input.\n",
    "        \"\"\",\n",
    "    ),\n",
    "    Tool(\n",
    "        name=\"Graph\",\n",
    "        func=cypher_chain.run,\n",
    "        description=\"\"\"\n",
    "        Useful for answering questions about patients, physiscians, hospitals, insurance \n",
    "        payers, and hospital visit details. Use full question as input.\n",
    "        \"\"\",\n",
    "    ),\n",
    "     Tool(\n",
    "        name=\"Waits\",\n",
    "        func=get_current_wait_times,\n",
    "        description=\"\"\"\n",
    "        Use when asked about current wait times at a hospital. This tool can only get\n",
    "        the current wait time at a hospital and does not have any information about\n",
    "        aggregate or historical wait times. This tool returns wait times in minutes.\n",
    "        Only pass the hospital name as input.\n",
    "        \"\"\",\n",
    "    )\n",
    "]\n",
    "\n",
    "hospital_rag_agent = initialize_agent(\n",
    "    tools,\n",
    "    ChatOpenAI(model=\"gpt-3.5-turbo-1106\", streaming=True, temperature=0, callbacks=[FinalStreamingStdOutCallbackHandler()]),\n",
    "    agent=AgentType.OPENAI_FUNCTIONS,\n",
    "    verbose=True\n",
    ")"
   ]
  },
  {
   "cell_type": "code",
   "execution_count": 40,
   "metadata": {},
   "outputs": [
    {
     "name": "stdout",
     "output_type": "stream",
     "text": [
      "\n",
      "\n",
      "\u001b[1m> Entering new AgentExecutor chain...\u001b[0m\n",
      "\u001b[32;1m\u001b[1;3m\n",
      "Invoking: `Waits` with `wallace-hamilton`\n",
      "\n",
      "\n",
      "\u001b[0m\u001b[38;5;200m\u001b[1;3m342\u001b[0m\u001b[32;1m\u001b[1;3mThe current wait time at Wallace-Hamilton is 342 minutes, which is approximately 5.7 hours.\u001b[0m\n",
      "\n",
      "\u001b[1m> Finished chain.\u001b[0m\n"
     ]
    },
    {
     "data": {
      "text/plain": [
       "'The current wait time at Wallace-Hamilton is 342 minutes, which is approximately 5.7 hours.'"
      ]
     },
     "execution_count": 40,
     "metadata": {},
     "output_type": "execute_result"
    }
   ],
   "source": [
    "hospital_rag_agent.run(\"How long is the wait at wallace-hamilton in hours?\")"
   ]
  },
  {
   "cell_type": "code",
   "execution_count": 41,
   "metadata": {},
   "outputs": [
    {
     "name": "stdout",
     "output_type": "stream",
     "text": [
      "\n",
      "\n",
      "\u001b[1m> Entering new AgentExecutor chain...\u001b[0m\n",
      "\u001b[32;1m\u001b[1;3m\n",
      "Invoking: `Reviews` with `What are patients saying about the nursing staff at Castaneda-Hardy?`\n",
      "\n",
      "\n",
      "\u001b[0m\u001b[36;1m\u001b[1;3mPatients have mentioned that the nursing staff at Castaneda-Hardy is attentive and provides excellent medical care.\u001b[0m\u001b[32;1m\u001b[1;3mPatients have mentioned that the nursing staff at Castaneda-Hardy is attentive and provides excellent medical care.\u001b[0m\n",
      "\n",
      "\u001b[1m> Finished chain.\u001b[0m\n"
     ]
    },
    {
     "data": {
      "text/plain": [
       "'Patients have mentioned that the nursing staff at Castaneda-Hardy is attentive and provides excellent medical care.'"
      ]
     },
     "execution_count": 41,
     "metadata": {},
     "output_type": "execute_result"
    }
   ],
   "source": [
    "hospital_rag_agent.run(\"What are patinets saying about the nursing staff at Castaneda-Hardy?\")"
   ]
  },
  {
   "cell_type": "code",
   "execution_count": 42,
   "metadata": {},
   "outputs": [
    {
     "name": "stdout",
     "output_type": "stream",
     "text": [
      "\n",
      "\n",
      "\u001b[1m> Entering new AgentExecutor chain...\u001b[0m\n",
      "\u001b[32;1m\u001b[1;3m\n",
      "Invoking: `Graph` with `total billing amount charged to each payer`\n",
      "\n",
      "\n",
      "\u001b[0m\n",
      "\n",
      "\u001b[1m> Entering new GraphCypherQAChain chain...\u001b[0m\n",
      "Generated Cypher:\n",
      "\u001b[32;1m\u001b[1;3mMATCH (p:Payer)<-[c:COVERED_BY]-(v:Visit)\n",
      "RETURN p.name AS payer_name, SUM(c.billing_amount) AS total_billing_amount\n",
      "ORDER BY total_billing_amount DESC\u001b[0m\n",
      "Full Context:\n",
      "\u001b[32;1m\u001b[1;3m[{'payer_name': 'UnitedHealthcare', 'total_billing_amount': 52221646.735484034}, {'payer_name': 'Cigna', 'total_billing_amount': 52161684.466568835}, {'payer_name': 'Blue Cross', 'total_billing_amount': 51440502.95502345}, {'payer_name': 'Medicare', 'total_billing_amount': 50464204.49895314}, {'payer_name': 'Aetna', 'total_billing_amount': 48806964.28556202}]\u001b[0m\n",
      "\n",
      "\u001b[1m> Finished chain.\u001b[0m\n",
      "\u001b[33;1m\u001b[1;3mThe total billing amount charged to each payer is as follows:\n",
      "- UnitedHealthcare: $52,221,646.74\n",
      "- Cigna: $52,161,684.47\n",
      "- Blue Cross: $51,440,502.96\n",
      "- Medicare: $50,464,204.50\n",
      "- Aetna: $48,806,964.29\u001b[0m\u001b[32;1m\u001b[1;3mThe total billing amount charged to each payer is as follows:\n",
      "- UnitedHealthcare: $52,221,646.74\n",
      "- Cigna: $52,161,684.47\n",
      "- Blue Cross: $51,440,502.96\n",
      "- Medicare: $50,464,204.50\n",
      "- Aetna: $48,806,964.29\u001b[0m\n",
      "\n",
      "\u001b[1m> Finished chain.\u001b[0m\n"
     ]
    },
    {
     "data": {
      "text/plain": [
       "'The total billing amount charged to each payer is as follows:\\n- UnitedHealthcare: $52,221,646.74\\n- Cigna: $52,161,684.47\\n- Blue Cross: $51,440,502.96\\n- Medicare: $50,464,204.50\\n- Aetna: $48,806,964.29'"
      ]
     },
     "execution_count": 42,
     "metadata": {},
     "output_type": "execute_result"
    }
   ],
   "source": [
    "hospital_rag_agent.run(\"What is the total billing amount charged to each payer?\")"
   ]
  },
  {
   "cell_type": "code",
   "execution_count": 43,
   "metadata": {},
   "outputs": [
    {
     "name": "stdout",
     "output_type": "stream",
     "text": [
      "\n",
      "\n",
      "\u001b[1m> Entering new AgentExecutor chain...\u001b[0m\n",
      "\u001b[32;1m\u001b[1;3m\n",
      "Invoking: `Graph` with `total billing amount charged to each payer for 2023`\n",
      "\n",
      "\n",
      "\u001b[0m\n",
      "\n",
      "\u001b[1m> Entering new GraphCypherQAChain chain...\u001b[0m\n",
      "Generated Cypher:\n",
      "\u001b[32;1m\u001b[1;3mMATCH (p:Payer)<-[c:COVERED_BY]-(v:Visit)\n",
      "WHERE c.service_date STARTS WITH '2023'\n",
      "RETURN p.name AS payer_name, SUM(c.billing_amount) AS total_billing_amount\u001b[0m\n",
      "Full Context:\n",
      "\u001b[32;1m\u001b[1;3m[{'payer_name': 'Medicare', 'total_billing_amount': 5902495.725205273}, {'payer_name': 'UnitedHealthcare', 'total_billing_amount': 6359067.333282183}, {'payer_name': 'Aetna', 'total_billing_amount': 5577131.580994591}, {'payer_name': 'Cigna', 'total_billing_amount': 6999482.788463744}, {'payer_name': 'Blue Cross', 'total_billing_amount': 5249587.508591171}]\u001b[0m\n",
      "\n",
      "\u001b[1m> Finished chain.\u001b[0m\n",
      "\u001b[33;1m\u001b[1;3mIn 2023, the total billing amount charged to each payer is as follows:\n",
      "- Medicare: $5,902,495.73\n",
      "- UnitedHealthcare: $6,359,067.33\n",
      "- Aetna: $5,577,131.58\n",
      "- Cigna: $6,999,482.79\n",
      "- Blue Cross: $5,249,587.51\u001b[0m\u001b[32;1m\u001b[1;3mIn 2023, the total billing amount charged to each payer is as follows:\n",
      "- Medicare: $5,902,495.73\n",
      "- UnitedHealthcare: $6,359,067.33\n",
      "- Aetna: $5,577,131.58\n",
      "- Cigna: $6,999,482.79\n",
      "- Blue Cross: $5,249,587.51\u001b[0m\n",
      "\n",
      "\u001b[1m> Finished chain.\u001b[0m\n"
     ]
    },
    {
     "data": {
      "text/plain": [
       "'In 2023, the total billing amount charged to each payer is as follows:\\n- Medicare: $5,902,495.73\\n- UnitedHealthcare: $6,359,067.33\\n- Aetna: $5,577,131.58\\n- Cigna: $6,999,482.79\\n- Blue Cross: $5,249,587.51'"
      ]
     },
     "execution_count": 43,
     "metadata": {},
     "output_type": "execute_result"
    }
   ],
   "source": [
    "hospital_rag_agent.run(\"What is the total billing amount charged to each payer for 2023?\")"
   ]
  },
  {
   "cell_type": "code",
   "execution_count": 44,
   "metadata": {},
   "outputs": [
    {
     "name": "stdout",
     "output_type": "stream",
     "text": [
      "\n",
      "\n",
      "\u001b[1m> Entering new AgentExecutor chain...\u001b[0m\n",
      "\u001b[32;1m\u001b[1;3m\n",
      "Invoking: `Graph` with `average billing amount to medicare payers`\n",
      "\n",
      "\n",
      "\u001b[0m\n",
      "\n",
      "\u001b[1m> Entering new GraphCypherQAChain chain...\u001b[0m\n",
      "Generated Cypher:\n",
      "\u001b[32;1m\u001b[1;3mMATCH (p:Payer{name:'Medicare'})<-[c:COVERED_BY]-(v:Visit)\n",
      "RETURN AVG(c.billing_amount) AS average_billing_amount\u001b[0m\n",
      "Full Context:\n",
      "\u001b[32;1m\u001b[1;3m[{'average_billing_amount': 25244.724611782458}]\u001b[0m\n",
      "\n",
      "\u001b[1m> Finished chain.\u001b[0m\n",
      "\u001b[33;1m\u001b[1;3mThe average billing amount to Medicare payers is $25,244.72.\u001b[0m\u001b[32;1m\u001b[1;3mThe average billing amount to Medicare payers is $25,244.72.\u001b[0m\n",
      "\n",
      "\u001b[1m> Finished chain.\u001b[0m\n"
     ]
    },
    {
     "data": {
      "text/plain": [
       "'The average billing amount to Medicare payers is $25,244.72.'"
      ]
     },
     "execution_count": 44,
     "metadata": {},
     "output_type": "execute_result"
    }
   ],
   "source": [
    "hospital_rag_agent.run(\"What is the average billing amount to medicare payers?\")"
   ]
  },
  {
   "cell_type": "code",
   "execution_count": 45,
   "metadata": {},
   "outputs": [
    {
     "name": "stdout",
     "output_type": "stream",
     "text": [
      "\n",
      "\n",
      "\u001b[1m> Entering new AgentExecutor chain...\u001b[0m\n",
      "\u001b[32;1m\u001b[1;3m\n",
      "Invoking: `Graph` with `How many patients has doctor Ryan Brown treated?`\n",
      "\n",
      "\n",
      "\u001b[0m\n",
      "\n",
      "\u001b[1m> Entering new GraphCypherQAChain chain...\u001b[0m\n",
      "Generated Cypher:\n",
      "\u001b[32;1m\u001b[1;3mMATCH (p:Physician {name: 'Ryan Brown'})-[:TREATS]->(v:Visit)<-[:HAS]-(pt:Patient)\n",
      "RETURN COUNT(DISTINCT pt) AS number_of_patients_treated\u001b[0m\n",
      "Full Context:\n",
      "\u001b[32;1m\u001b[1;3m[{'number_of_patients_treated': 21}]\u001b[0m\n",
      "\n",
      "\u001b[1m> Finished chain.\u001b[0m\n",
      "\u001b[33;1m\u001b[1;3mDoctor Ryan Brown has treated 21 patients.\u001b[0m\u001b[32;1m\u001b[1;3mDoctor Ryan Brown has treated 21 patients.\u001b[0m\n",
      "\n",
      "\u001b[1m> Finished chain.\u001b[0m\n"
     ]
    },
    {
     "data": {
      "text/plain": [
       "'Doctor Ryan Brown has treated 21 patients.'"
      ]
     },
     "execution_count": 45,
     "metadata": {},
     "output_type": "execute_result"
    }
   ],
   "source": [
    "hospital_rag_agent.run(\"How many patients has doctor Ryan Brown treated?\")"
   ]
  },
  {
   "cell_type": "code",
   "execution_count": 46,
   "metadata": {},
   "outputs": [
    {
     "name": "stdout",
     "output_type": "stream",
     "text": [
      "\n",
      "\n",
      "\u001b[1m> Entering new AgentExecutor chain...\u001b[0m\n",
      "\u001b[32;1m\u001b[1;3m\n",
      "Invoking: `Graph` with `Which physician has the lowest average visit duration in days?`\n",
      "\n",
      "\n",
      "\u001b[0m\n",
      "\n",
      "\u001b[1m> Entering new GraphCypherQAChain chain...\u001b[0m\n",
      "Generated Cypher:\n",
      "\u001b[32;1m\u001b[1;3mMATCH (phy:Physician)-[:TREATS]->(v:Visit)\n",
      "WHERE v.discharge_date IS NOT NULL\n",
      "WITH phy, duration.between(date(v.admission_date), date(v.discharge_date)).days AS visit_duration\n",
      "RETURN phy.name AS physician_name, AVG(visit_duration) AS average_visit_duration\n",
      "ORDER BY average_visit_duration\n",
      "LIMIT 1\u001b[0m\n",
      "Full Context:\n",
      "\u001b[32;1m\u001b[1;3m[{'physician_name': 'Amber Parker MD', 'average_visit_duration': 7.333333333333334}]\u001b[0m\n",
      "\n",
      "\u001b[1m> Finished chain.\u001b[0m\n",
      "\u001b[33;1m\u001b[1;3mThe physician with the lowest average visit duration in days is Amber Parker MD, with an average visit duration of 7.33 days.\u001b[0m\u001b[32;1m\u001b[1;3mThe physician with the lowest average visit duration in days is Amber Parker MD, with an average visit duration of 7.33 days.\u001b[0m\n",
      "\n",
      "\u001b[1m> Finished chain.\u001b[0m\n"
     ]
    },
    {
     "data": {
      "text/plain": [
       "'The physician with the lowest average visit duration in days is Amber Parker MD, with an average visit duration of 7.33 days.'"
      ]
     },
     "execution_count": 46,
     "metadata": {},
     "output_type": "execute_result"
    }
   ],
   "source": [
    "hospital_rag_agent.run(\"Which physician has the lowest average visit duration in days?\")"
   ]
  },
  {
   "cell_type": "code",
   "execution_count": 47,
   "metadata": {},
   "outputs": [
    {
     "name": "stdout",
     "output_type": "stream",
     "text": [
      "\n",
      "\n",
      "\u001b[1m> Entering new AgentExecutor chain...\u001b[0m\n",
      "\u001b[32;1m\u001b[1;3m\n",
      "Invoking: `Graph` with `How many visits are open and what is their average duration in days?`\n",
      "\n",
      "\n",
      "\u001b[0m\n",
      "\n",
      "\u001b[1m> Entering new GraphCypherQAChain chain...\u001b[0m\n",
      "Generated Cypher:\n",
      "\u001b[32;1m\u001b[1;3mMATCH (v:Visit)\n",
      "WHERE v.status = 'OPEN' AND v.discharge_date IS NULL\n",
      "WITH COUNT(v) AS open_visits\n",
      "MATCH (v:Visit)\n",
      "WHERE v.status = 'OPEN' AND v.discharge_date IS NULL\n",
      "RETURN open_visits, AVG(duration.between(date(v.admission_date), date()).days) AS average_duration\u001b[0m\n",
      "Full Context:\n",
      "\u001b[32;1m\u001b[1;3m[{'open_visits': 500, 'average_duration': 14.61200000000001}]\u001b[0m\n",
      "\n",
      "\u001b[1m> Finished chain.\u001b[0m\n",
      "\u001b[33;1m\u001b[1;3mThere are currently 500 open visits, with an average duration of 14.612 days.\u001b[0m\u001b[32;1m\u001b[1;3mThere are currently 500 open visits, with an average duration of 14.612 days.\u001b[0m\n",
      "\n",
      "\u001b[1m> Finished chain.\u001b[0m\n"
     ]
    },
    {
     "data": {
      "text/plain": [
       "'There are currently 500 open visits, with an average duration of 14.612 days.'"
      ]
     },
     "execution_count": 47,
     "metadata": {},
     "output_type": "execute_result"
    }
   ],
   "source": [
    "hospital_rag_agent.run(\n",
    "    \"How many visits are open and what is their average duration in days?\"\n",
    ")"
   ]
  },
  {
   "cell_type": "code",
   "execution_count": 48,
   "metadata": {},
   "outputs": [
    {
     "name": "stdout",
     "output_type": "stream",
     "text": [
      "\n",
      "\n",
      "\u001b[1m> Entering new AgentExecutor chain...\u001b[0m\n",
      "\u001b[32;1m\u001b[1;3m\n",
      "Invoking: `Reviews` with `Have any patients complained about noise?`\n",
      "\n",
      "\n",
      "\u001b[0m\u001b[36;1m\u001b[1;3mYes, two patients have complained about noise. Sarah Love and David Kim both mentioned that the noise levels in the hallway were disruptive and affected their ability to rest.\u001b[0m\u001b[32;1m\u001b[1;3mYes, two patients have complained about noise. Sarah Love and David Kim both mentioned that the noise levels in the hallway were disruptive and affected their ability to rest.\u001b[0m\n",
      "\n",
      "\u001b[1m> Finished chain.\u001b[0m\n"
     ]
    },
    {
     "data": {
      "text/plain": [
       "'Yes, two patients have complained about noise. Sarah Love and David Kim both mentioned that the noise levels in the hallway were disruptive and affected their ability to rest.'"
      ]
     },
     "execution_count": 48,
     "metadata": {},
     "output_type": "execute_result"
    }
   ],
   "source": [
    "hospital_rag_agent.run(\n",
    "    \"Have any patients complained about noise?\"\n",
    ")"
   ]
  },
  {
   "cell_type": "code",
   "execution_count": 49,
   "metadata": {},
   "outputs": [
    {
     "name": "stdout",
     "output_type": "stream",
     "text": [
      "\n",
      "\n",
      "\u001b[1m> Entering new AgentExecutor chain...\u001b[0m\n",
      "\u001b[32;1m\u001b[1;3m\n",
      "Invoking: `Reviews` with `complaints about wait times`\n",
      "\n",
      "\n",
      "\u001b[0m\u001b[36;1m\u001b[1;3mThere are several complaints about wait times in the reviews:\n",
      "\n",
      "1. Lisa Lowery was disappointed with the long wait times in the emergency room at Schultz-Powers. She felt like hours passed before she received any attention, and the staff seemed overwhelmed with the number of patients.\n",
      "\n",
      "2. Dan Potter mentioned that the wait times for tests and results were quite long at Shea LLC. He felt that it added unnecessary stress to an already challenging situation.\n",
      "\n",
      "3. Alexander Sellers had an unsatisfactory experience at Lewis-Nelson hospital. He found the wait times unbearable and was frustrated by the lack of communication from the staff. He believes that improvement is needed in their efficiency.\n",
      "\n",
      "4. Jennifer Russell also mentioned frustrating wait times for tests and results at Wallace-Hamilton hospital. She believes that improvement in this area would greatly enhance the overall experience.\u001b[0m\u001b[32;1m\u001b[1;3mYes, there have been several complaints about wait times from patients. Some of the common complaints include long wait times in the emergency room, for tests and results, and a lack of communication from the staff. These complaints highlight the need for improvement in efficiency and communication to enhance the overall patient experience.\u001b[0m\n",
      "\n",
      "\u001b[1m> Finished chain.\u001b[0m\n"
     ]
    },
    {
     "data": {
      "text/plain": [
       "'Yes, there have been several complaints about wait times from patients. Some of the common complaints include long wait times in the emergency room, for tests and results, and a lack of communication from the staff. These complaints highlight the need for improvement in efficiency and communication to enhance the overall patient experience.'"
      ]
     },
     "execution_count": 49,
     "metadata": {},
     "output_type": "execute_result"
    }
   ],
   "source": [
    "hospital_rag_agent.run(\n",
    "    \"Have any patients complained about wait times?\"\n",
    ")"
   ]
  },
  {
   "cell_type": "code",
   "execution_count": 50,
   "metadata": {},
   "outputs": [
    {
     "name": "stdout",
     "output_type": "stream",
     "text": [
      "\n",
      "\n",
      "\u001b[1m> Entering new AgentExecutor chain...\u001b[0m\n",
      "\u001b[32;1m\u001b[1;3m\n",
      "Invoking: `Graph` with `How much was billed for patient 789's stay?`\n",
      "\n",
      "\n",
      "\u001b[0m\n",
      "\n",
      "\u001b[1m> Entering new GraphCypherQAChain chain...\u001b[0m\n",
      "Generated Cypher:\n",
      "\u001b[32;1m\u001b[1;3mMATCH (p:Patient {id: 789})-[:HAS]->(v:Visit)\n",
      "MATCH (v)-[c:COVERED_BY]->(payer:Payer)\n",
      "RETURN SUM(c.billing_amount) AS total_billed\u001b[0m\n",
      "Full Context:\n",
      "\u001b[32;1m\u001b[1;3m[{'total_billed': 8749.923730892473}]\u001b[0m\n",
      "\n",
      "\u001b[1m> Finished chain.\u001b[0m\n",
      "\u001b[33;1m\u001b[1;3mThe total amount billed for patient 789's stay is $8749.92.\u001b[0m\u001b[32;1m\u001b[1;3mThe total amount billed for patient 789's stay is $8749.92.\u001b[0m\n",
      "\n",
      "\u001b[1m> Finished chain.\u001b[0m\n"
     ]
    },
    {
     "data": {
      "text/plain": [
       "\"The total amount billed for patient 789's stay is $8749.92.\""
      ]
     },
     "execution_count": 50,
     "metadata": {},
     "output_type": "execute_result"
    }
   ],
   "source": [
    "# Fixed\n",
    "hospital_rag_agent.run(\n",
    "    \"How much was billed for patient 789's stay?\"\n",
    ")"
   ]
  },
  {
   "cell_type": "code",
   "execution_count": 51,
   "metadata": {},
   "outputs": [
    {
     "name": "stdout",
     "output_type": "stream",
     "text": [
      "\n",
      "\n",
      "\u001b[1m> Entering new AgentExecutor chain...\u001b[0m\n",
      "\u001b[32;1m\u001b[1;3m\n",
      "Invoking: `Graph` with `Which physician has billed the most to medicare?`\n",
      "\n",
      "\n",
      "\u001b[0m\n",
      "\n",
      "\u001b[1m> Entering new GraphCypherQAChain chain...\u001b[0m\n",
      "Generated Cypher:\n",
      "\u001b[32;1m\u001b[1;3mMATCH (p:Payer)<-[c:COVERED_BY]-(v:Visit)-[t:TREATS]-(phy:Physician)\n",
      "WHERE p.name = 'Medicare'\n",
      "RETURN phy.name AS physician_name, SUM(c.billing_amount) AS total_billed\n",
      "ORDER BY total_billed DESC\n",
      "LIMIT 1\u001b[0m\n",
      "Full Context:\n",
      "\u001b[32;1m\u001b[1;3m[{'physician_name': 'Kyle Campbell', 'total_billed': 382313.91613655945}]\u001b[0m\n",
      "\n",
      "\u001b[1m> Finished chain.\u001b[0m\n",
      "\u001b[33;1m\u001b[1;3mThe physician who has billed the most to Medicare is Kyle Campbell, with a total billed amount of $382,313.92.\u001b[0m\u001b[32;1m\u001b[1;3mThe physician who has billed the most to Medicare is Kyle Campbell, with a total billed amount of $382,313.92.\u001b[0m\n",
      "\n",
      "\u001b[1m> Finished chain.\u001b[0m\n"
     ]
    },
    {
     "data": {
      "text/plain": [
       "'The physician who has billed the most to Medicare is Kyle Campbell, with a total billed amount of $382,313.92.'"
      ]
     },
     "execution_count": 51,
     "metadata": {},
     "output_type": "execute_result"
    }
   ],
   "source": [
    "# Fixed with example in prompt\n",
    "hospital_rag_agent.run(\n",
    "    \"Which physician has billed the most to medicare?\"\n",
    ")"
   ]
  },
  {
   "cell_type": "code",
   "execution_count": 57,
   "metadata": {},
   "outputs": [
    {
     "data": {
      "text/plain": [
       "'gpt-3.5-turbo'"
      ]
     },
     "execution_count": 57,
     "metadata": {},
     "output_type": "execute_result"
    }
   ],
   "source": []
  }
 ],
 "metadata": {
  "kernelspec": {
   "display_name": "lang_chain_real_python",
   "language": "python",
   "name": "python3"
  },
  "language_info": {
   "codemirror_mode": {
    "name": "ipython",
    "version": 3
   },
   "file_extension": ".py",
   "mimetype": "text/x-python",
   "name": "python",
   "nbconvert_exporter": "python",
   "pygments_lexer": "ipython3",
   "version": "3.11.6"
  }
 },
 "nbformat": 4,
 "nbformat_minor": 2
}
